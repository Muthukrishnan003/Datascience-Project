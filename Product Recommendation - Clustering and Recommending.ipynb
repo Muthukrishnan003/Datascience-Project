{
 "cells": [
  {
   "cell_type": "code",
   "execution_count": 1,
   "id": "a9ccf655",
   "metadata": {},
   "outputs": [],
   "source": [
    "import pandas as pd\n",
    "from sklearn.cluster import KMeans\n",
    "from sklearn.impute import SimpleImputer\n"
   ]
  },
  {
   "cell_type": "code",
   "execution_count": 21,
   "id": "b936ded9",
   "metadata": {},
   "outputs": [
    {
     "name": "stdout",
     "output_type": "stream",
     "text": [
      "Index(['index', 'product_id', 'product_name', 'category', 'sub_category',\n",
      "       'brand', 'sale_price', 'market_price', 'type', 'user_id', 'rating',\n",
      "       'description'],\n",
      "      dtype='object')\n",
      "   index  product_id                                       product_name  \\\n",
      "0      1      100001             Garlic Oil - Vegetarian Capsule 500 mg   \n",
      "1      2      100002                              Water Bottle - Orange   \n",
      "2      3      100003                     Brass Angle Deep - Plain, No.2   \n",
      "3      4      100004  Cereal Flip Lid Container/Storage Jar - Assort...   \n",
      "4      5      100005                 Creme Soft Soap - For Hands & Body   \n",
      "\n",
      "                 category           sub_category              brand  \\\n",
      "0        Beauty & Hygiene              Hair Care  Sri Sri Ayurveda    \n",
      "1  Kitchen, Garden & Pets  Storage & Accessories         Mastercook   \n",
      "2    Cleaning & Household            Pooja Needs                Trm   \n",
      "3    Cleaning & Household   Bins & Bathroom Ware             Nakoda   \n",
      "4        Beauty & Hygiene       Bath & Hand Wash              Nivea   \n",
      "\n",
      "   sale_price  market_price                      type  user_id  rating  \\\n",
      "0       220.0         220.0          Hair Oil & Serum        2     4.1   \n",
      "1       180.0         180.0    Water & Fridge Bottles        8     2.3   \n",
      "2       119.0         250.0           Lamp & Lamp Oil    11400     3.4   \n",
      "3       149.0         176.0  Laundry, Storage Baskets    11676     3.7   \n",
      "4       162.0         162.0      Bathing Bars & Soaps    41385     4.4   \n",
      "\n",
      "                                         description  \n",
      "0  This Product contains Garlic Oil that is known...  \n",
      "1  Each product is microwave safe (without lid), ...  \n",
      "2  A perfect gift for all occasions, be it your m...  \n",
      "3  Multipurpose container with an attractive desi...  \n",
      "4  Nivea Creme Soft Soap gives your skin the best...  \n"
     ]
    }
   ],
   "source": [
    "# load the product data\n",
    "products = pd.read_csv('BigBasket Products.csv')\n",
    "\n",
    "print(products.columns)\n",
    "\n",
    "print(products.head())"
   ]
  },
  {
   "cell_type": "code",
   "execution_count": 3,
   "id": "e1624aa9",
   "metadata": {},
   "outputs": [],
   "source": [
    "# # apply K-Means clustering\n",
    "# kmeans = KMeans(n_clusters=5, random_state=0)\n",
    "# kmeans.fit(X_scaled)\n"
   ]
  },
  {
   "cell_type": "code",
   "execution_count": 4,
   "id": "076fdd21",
   "metadata": {},
   "outputs": [
    {
     "name": "stdout",
     "output_type": "stream",
     "text": [
      "       product_id  category  sale_price  rating\n",
      "0          100001         2      220.00     4.1\n",
      "1          100002         9      180.00     2.3\n",
      "2          100003         4      119.00     3.4\n",
      "3          100004         4      149.00     3.7\n",
      "4          100005         2      162.00     4.4\n",
      "...           ...       ...         ...     ...\n",
      "27550      127551         2      199.20     3.9\n",
      "27551      127552         8       67.50     4.0\n",
      "27552      127553         8      200.00     3.8\n",
      "27553      127554         3      396.00     4.2\n",
      "27554      127555         2      214.53     4.5\n",
      "\n",
      "[27555 rows x 4 columns]\n"
     ]
    },
    {
     "name": "stderr",
     "output_type": "stream",
     "text": [
      "C:\\Users\\91638\\AppData\\Local\\Temp\\ipykernel_22392\\3756812260.py:3: SettingWithCopyWarning: \n",
      "A value is trying to be set on a copy of a slice from a DataFrame.\n",
      "Try using .loc[row_indexer,col_indexer] = value instead\n",
      "\n",
      "See the caveats in the documentation: https://pandas.pydata.org/pandas-docs/stable/user_guide/indexing.html#returning-a-view-versus-a-copy\n",
      "  X['category'] = X['category'].astype('category').cat.codes # convert categorical variable to numerical\n"
     ]
    }
   ],
   "source": [
    "# preprocess the data\n",
    "X = products[['product_id','category', 'sale_price', 'rating']]\n",
    "X['category'] = X['category'].astype('category').cat.codes # convert categorical variable to numerical\n",
    "X_scaled = (X - X.mean()) / X.std() # standardize the data\n",
    "\n",
    "\n",
    "print(X)"
   ]
  },
  {
   "cell_type": "code",
   "execution_count": 5,
   "id": "0deb5fa4",
   "metadata": {},
   "outputs": [],
   "source": [
    "imputer = SimpleImputer(strategy='mean')\n",
    "X_imputed = imputer.fit_transform(X)"
   ]
  },
  {
   "cell_type": "code",
   "execution_count": 23,
   "id": "fcf0393a",
   "metadata": {},
   "outputs": [
    {
     "name": "stderr",
     "output_type": "stream",
     "text": [
      "C:\\Users\\91638\\AppData\\Local\\Programs\\Python\\Python310\\lib\\site-packages\\sklearn\\cluster\\_kmeans.py:870: FutureWarning: The default value of `n_init` will change from 10 to 'auto' in 1.4. Set the value of `n_init` explicitly to suppress the warning\n",
      "  warnings.warn(\n"
     ]
    },
    {
     "name": "stdout",
     "output_type": "stream",
     "text": [
      "[10 10 10 ...  8  8  8]\n"
     ]
    }
   ],
   "source": [
    "kmeans = KMeans(n_clusters=12, random_state=0)\n",
    "kmeans.fit(X_imputed)\n",
    "\n",
    "\n",
    "# get the cluster labels\n",
    "labels = kmeans.labels_\n",
    "print(labels)"
   ]
  },
  {
   "cell_type": "code",
   "execution_count": 24,
   "id": "2ed68c73",
   "metadata": {},
   "outputs": [
    {
     "data": {
      "image/png": "[encoded data removed]",
      "text/plain": [
       "<Figure size 640x480 with 1 Axes>"
      ]
     },
     "metadata": {},
     "output_type": "display_data"
    }
   ],
   "source": [
    "import matplotlib.pyplot as plt\n",
    "\n",
    "# plot the data points with their assigned cluster labels\n",
    "plt.scatter(X_imputed[:, 0], X_imputed[:, 1], c=labels)\n",
    "plt.title('K-means Clustering')\n",
    "plt.xlabel('Feature 1')\n",
    "plt.ylabel('Feature 2')\n",
    "plt.show()"
   ]
  },
  {
   "cell_type": "code",
   "execution_count": 25,
   "id": "38c38c0f",
   "metadata": {},
   "outputs": [
    {
     "data": {
      "text/html": [
       "<div>\n",
       "<style scoped>\n",
       "    .dataframe tbody tr th:only-of-type {\n",
       "        vertical-align: middle;\n",
       "    }\n",
       "\n",
       "    .dataframe tbody tr th {\n",
       "        vertical-align: top;\n",
       "    }\n",
       "\n",
       "    .dataframe thead th {\n",
       "        text-align: right;\n",
       "    }\n",
       "</style>\n",
       "<table border=\"1\" class=\"dataframe\">\n",
       "  <thead>\n",
       "    <tr style=\"text-align: right;\">\n",
       "      <th></th>\n",
       "      <th>index</th>\n",
       "      <th>product_id</th>\n",
       "      <th>product_name</th>\n",
       "      <th>category</th>\n",
       "      <th>sub_category</th>\n",
       "      <th>brand</th>\n",
       "      <th>sale_price</th>\n",
       "      <th>market_price</th>\n",
       "      <th>type</th>\n",
       "      <th>user_id</th>\n",
       "      <th>rating</th>\n",
       "      <th>description</th>\n",
       "    </tr>\n",
       "  </thead>\n",
       "  <tbody>\n",
       "    <tr>\n",
       "      <th>16531</th>\n",
       "      <td>16532</td>\n",
       "      <td>116532</td>\n",
       "      <td>Cocoa Heaven Mug Cake Mix</td>\n",
       "      <td>Gourmet &amp; World Food</td>\n",
       "      <td>Cooking &amp; Baking Needs</td>\n",
       "      <td>Serapheena</td>\n",
       "      <td>67.15</td>\n",
       "      <td>79.0</td>\n",
       "      <td>Baking, Cake Decorations</td>\n",
       "      <td>96970</td>\n",
       "      <td>5.0</td>\n",
       "      <td>The Cocoa Heaven cake mix is made from ancient...</td>\n",
       "    </tr>\n",
       "    <tr>\n",
       "      <th>15608</th>\n",
       "      <td>15609</td>\n",
       "      <td>115609</td>\n",
       "      <td>MaxFresh Blue Spicy Fresh Gel Toothpaste - Del...</td>\n",
       "      <td>Beauty &amp; Hygiene</td>\n",
       "      <td>Oral Care</td>\n",
       "      <td>Colgate</td>\n",
       "      <td>89.25</td>\n",
       "      <td>105.0</td>\n",
       "      <td>Toothpaste</td>\n",
       "      <td>136426</td>\n",
       "      <td>5.0</td>\n",
       "      <td>Don’t let the trolls get you down. #MaxFreshTh...</td>\n",
       "    </tr>\n",
       "    <tr>\n",
       "      <th>15556</th>\n",
       "      <td>15557</td>\n",
       "      <td>115557</td>\n",
       "      <td>Stroke Tall Juice &amp; Water Glass/Tumbler</td>\n",
       "      <td>Kitchen, Garden &amp; Pets</td>\n",
       "      <td>Crockery &amp; Cutlery</td>\n",
       "      <td>Hi-Luxe</td>\n",
       "      <td>995.00</td>\n",
       "      <td>995.0</td>\n",
       "      <td>Glassware</td>\n",
       "      <td>126541</td>\n",
       "      <td>5.0</td>\n",
       "      <td>Hi luxe products are made of soda-lime glasswa...</td>\n",
       "    </tr>\n",
       "    <tr>\n",
       "      <th>14613</th>\n",
       "      <td>14614</td>\n",
       "      <td>114614</td>\n",
       "      <td>Premium Soft Diaper Pants - Small Size</td>\n",
       "      <td>Baby Care</td>\n",
       "      <td>Diapers &amp; Wipes</td>\n",
       "      <td>Huggies</td>\n",
       "      <td>718.92</td>\n",
       "      <td>798.0</td>\n",
       "      <td>Diapers</td>\n",
       "      <td>152082</td>\n",
       "      <td>5.0</td>\n",
       "      <td>Our softest for your softest. Introducing the ...</td>\n",
       "    </tr>\n",
       "    <tr>\n",
       "      <th>14616</th>\n",
       "      <td>14617</td>\n",
       "      <td>114617</td>\n",
       "      <td>Black Pearl Shampoo - Hair Loss &amp; Dandruff Con...</td>\n",
       "      <td>Beauty &amp; Hygiene</td>\n",
       "      <td>Hair Care</td>\n",
       "      <td>Jiva Ayurveda</td>\n",
       "      <td>120.00</td>\n",
       "      <td>120.0</td>\n",
       "      <td>Shampoo &amp; Conditioner</td>\n",
       "      <td>154730</td>\n",
       "      <td>5.0</td>\n",
       "      <td>Jiva Black Pearl Shampoo is the right shampoo ...</td>\n",
       "    </tr>\n",
       "  </tbody>\n",
       "</table>\n",
       "</div>"
      ],
      "text/plain": [
       "       index  product_id                                       product_name  \\\n",
       "16531  16532      116532                          Cocoa Heaven Mug Cake Mix   \n",
       "15608  15609      115609  MaxFresh Blue Spicy Fresh Gel Toothpaste - Del...   \n",
       "15556  15557      115557            Stroke Tall Juice & Water Glass/Tumbler   \n",
       "14613  14614      114614             Premium Soft Diaper Pants - Small Size   \n",
       "14616  14617      114617  Black Pearl Shampoo - Hair Loss & Dandruff Con...   \n",
       "\n",
       "                     category            sub_category          brand  \\\n",
       "16531    Gourmet & World Food  Cooking & Baking Needs     Serapheena   \n",
       "15608        Beauty & Hygiene               Oral Care        Colgate   \n",
       "15556  Kitchen, Garden & Pets      Crockery & Cutlery        Hi-Luxe   \n",
       "14613               Baby Care         Diapers & Wipes        Huggies   \n",
       "14616        Beauty & Hygiene               Hair Care  Jiva Ayurveda   \n",
       "\n",
       "       sale_price  market_price                      type  user_id  rating  \\\n",
       "16531       67.15          79.0  Baking, Cake Decorations    96970     5.0   \n",
       "15608       89.25         105.0                Toothpaste   136426     5.0   \n",
       "15556      995.00         995.0                 Glassware   126541     5.0   \n",
       "14613      718.92         798.0                   Diapers   152082     5.0   \n",
       "14616      120.00         120.0     Shampoo & Conditioner   154730     5.0   \n",
       "\n",
       "                                             description  \n",
       "16531  The Cocoa Heaven cake mix is made from ancient...  \n",
       "15608  Don’t let the trolls get you down. #MaxFreshTh...  \n",
       "15556  Hi luxe products are made of soda-lime glasswa...  \n",
       "14613  Our softest for your softest. Introducing the ...  \n",
       "14616  Jiva Black Pearl Shampoo is the right shampoo ...  "
      ]
     },
     "execution_count": 25,
     "metadata": {},
     "output_type": "execute_result"
    }
   ],
   "source": [
    "def recommend_products(product_id):\n",
    "    product_cluster = labels[products.index[products['product_id'] == product_id].tolist()[0]]\n",
    "    similar_products = products[labels == product_cluster].sort_values(by=['rating'], ascending=False)[:5]\n",
    "    return similar_products\n",
    "\n",
    "# example usage\n",
    "recommend_products(116607)"
   ]
  },
  {
   "cell_type": "code",
   "execution_count": null,
   "id": "9eeaecd7",
   "metadata": {},
   "outputs": [],
   "source": []
  },
  {
   "cell_type": "code",
   "execution_count": null,
   "id": "13d1c9ba",
   "metadata": {},
   "outputs": [],
   "source": []
  }
 ],
 "metadata": {
  "kernelspec": {
   "display_name": "Python 3 (ipykernel)",
   "language": "python",
   "name": "python3"
  },
  "language_info": {
   "codemirror_mode": {
    "name": "ipython",
    "version": 3
   },
   "file_extension": ".py",
   "mimetype": "text/x-python",
   "name": "python",
   "nbconvert_exporter": "python",
   "pygments_lexer": "ipython3",
   "version": "3.10.7"
  }
 },
 "nbformat": 4,
 "nbformat_minor": 5
}
