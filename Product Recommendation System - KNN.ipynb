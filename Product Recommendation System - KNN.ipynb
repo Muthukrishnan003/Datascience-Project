{
 "cells": [
  {
   "cell_type": "markdown",
   "id": "9ac6a0a3",
   "metadata": {},
   "source": [
    "# Product Recommendation Using Collaborative Filtering\n",
    "\n",
    "###             Build a recommendation system to recommend  the products to customers based on the their previous ratings for other products."
   ]
  },
  {
   "cell_type": "markdown",
   "id": "7095c625",
   "metadata": {},
   "source": [
    "# Load the Data Set\n"
   ]
  },
  {
   "cell_type": "code",
   "execution_count": 1,
   "id": "43f66d4d",
   "metadata": {},
   "outputs": [],
   "source": [
    "#importing the libraries thats we want\n",
    "\n",
    "import pandas as pd\n",
    "import seaborn as sns\n",
    "import matplotlib.pyplot as plt"
   ]
  },
  {
   "cell_type": "code",
   "execution_count": 2,
   "id": "b39a0159",
   "metadata": {},
   "outputs": [],
   "source": [
    "# Loading the dataset\n",
    "# Here, I take the BigBasket Dataset (Online Grocery Store)\n",
    "\n",
    "df= pd.read_csv('BigBasket Products.csv')"
   ]
  },
  {
   "cell_type": "code",
   "execution_count": 3,
   "id": "b9b5a8fd",
   "metadata": {},
   "outputs": [
    {
     "name": "stdout",
     "output_type": "stream",
     "text": [
      "Total Number of rows : 27555\n",
      "Total Number of columns : 12\n"
     ]
    }
   ],
   "source": [
    "# Printing the number of rows & columns in Bigbasket Dataset\n",
    "\n",
    "rows_count, columns_count = df.shape\n",
    "print('Total Number of rows :', rows_count)\n",
    "print('Total Number of columns :', columns_count)"
   ]
  },
  {
   "cell_type": "code",
   "execution_count": 4,
   "id": "cd2e9f43",
   "metadata": {},
   "outputs": [
    {
     "data": {
      "text/html": [
       "<div>\n",
       "<style scoped>\n",
       "    .dataframe tbody tr th:only-of-type {\n",
       "        vertical-align: middle;\n",
       "    }\n",
       "\n",
       "    .dataframe tbody tr th {\n",
       "        vertical-align: top;\n",
       "    }\n",
       "\n",
       "    .dataframe thead th {\n",
       "        text-align: right;\n",
       "    }\n",
       "</style>\n",
       "<table border=\"1\" class=\"dataframe\">\n",
       "  <thead>\n",
       "    <tr style=\"text-align: right;\">\n",
       "      <th></th>\n",
       "      <th>index</th>\n",
       "      <th>product_id</th>\n",
       "      <th>product_name</th>\n",
       "      <th>category</th>\n",
       "      <th>sub_category</th>\n",
       "      <th>brand</th>\n",
       "      <th>sale_price</th>\n",
       "      <th>market_price</th>\n",
       "      <th>type</th>\n",
       "      <th>user_id</th>\n",
       "      <th>rating</th>\n",
       "      <th>description</th>\n",
       "    </tr>\n",
       "  </thead>\n",
       "  <tbody>\n",
       "    <tr>\n",
       "      <th>0</th>\n",
       "      <td>1</td>\n",
       "      <td>100001</td>\n",
       "      <td>Garlic Oil - Vegetarian Capsule 500 mg</td>\n",
       "      <td>Beauty &amp; Hygiene</td>\n",
       "      <td>Hair Care</td>\n",
       "      <td>Sri Sri Ayurveda</td>\n",
       "      <td>220.0</td>\n",
       "      <td>220.0</td>\n",
       "      <td>Hair Oil &amp; Serum</td>\n",
       "      <td>2</td>\n",
       "      <td>4.1</td>\n",
       "      <td>This Product contains Garlic Oil that is known...</td>\n",
       "    </tr>\n",
       "    <tr>\n",
       "      <th>1</th>\n",
       "      <td>2</td>\n",
       "      <td>100002</td>\n",
       "      <td>Water Bottle - Orange</td>\n",
       "      <td>Kitchen, Garden &amp; Pets</td>\n",
       "      <td>Storage &amp; Accessories</td>\n",
       "      <td>Mastercook</td>\n",
       "      <td>180.0</td>\n",
       "      <td>180.0</td>\n",
       "      <td>Water &amp; Fridge Bottles</td>\n",
       "      <td>8</td>\n",
       "      <td>2.3</td>\n",
       "      <td>Each product is microwave safe (without lid), ...</td>\n",
       "    </tr>\n",
       "    <tr>\n",
       "      <th>2</th>\n",
       "      <td>3</td>\n",
       "      <td>100003</td>\n",
       "      <td>Brass Angle Deep - Plain, No.2</td>\n",
       "      <td>Cleaning &amp; Household</td>\n",
       "      <td>Pooja Needs</td>\n",
       "      <td>Trm</td>\n",
       "      <td>119.0</td>\n",
       "      <td>250.0</td>\n",
       "      <td>Lamp &amp; Lamp Oil</td>\n",
       "      <td>11400</td>\n",
       "      <td>3.4</td>\n",
       "      <td>A perfect gift for all occasions, be it your m...</td>\n",
       "    </tr>\n",
       "    <tr>\n",
       "      <th>3</th>\n",
       "      <td>4</td>\n",
       "      <td>100004</td>\n",
       "      <td>Cereal Flip Lid Container/Storage Jar - Assort...</td>\n",
       "      <td>Cleaning &amp; Household</td>\n",
       "      <td>Bins &amp; Bathroom Ware</td>\n",
       "      <td>Nakoda</td>\n",
       "      <td>149.0</td>\n",
       "      <td>176.0</td>\n",
       "      <td>Laundry, Storage Baskets</td>\n",
       "      <td>11676</td>\n",
       "      <td>3.7</td>\n",
       "      <td>Multipurpose container with an attractive desi...</td>\n",
       "    </tr>\n",
       "    <tr>\n",
       "      <th>4</th>\n",
       "      <td>5</td>\n",
       "      <td>100005</td>\n",
       "      <td>Creme Soft Soap - For Hands &amp; Body</td>\n",
       "      <td>Beauty &amp; Hygiene</td>\n",
       "      <td>Bath &amp; Hand Wash</td>\n",
       "      <td>Nivea</td>\n",
       "      <td>162.0</td>\n",
       "      <td>162.0</td>\n",
       "      <td>Bathing Bars &amp; Soaps</td>\n",
       "      <td>41385</td>\n",
       "      <td>4.4</td>\n",
       "      <td>Nivea Creme Soft Soap gives your skin the best...</td>\n",
       "    </tr>\n",
       "  </tbody>\n",
       "</table>\n",
       "</div>"
      ],
      "text/plain": [
       "   index  product_id                                       product_name  \\\n",
       "0      1      100001             Garlic Oil - Vegetarian Capsule 500 mg   \n",
       "1      2      100002                              Water Bottle - Orange   \n",
       "2      3      100003                     Brass Angle Deep - Plain, No.2   \n",
       "3      4      100004  Cereal Flip Lid Container/Storage Jar - Assort...   \n",
       "4      5      100005                 Creme Soft Soap - For Hands & Body   \n",
       "\n",
       "                 category           sub_category              brand  \\\n",
       "0        Beauty & Hygiene              Hair Care  Sri Sri Ayurveda    \n",
       "1  Kitchen, Garden & Pets  Storage & Accessories         Mastercook   \n",
       "2    Cleaning & Household            Pooja Needs                Trm   \n",
       "3    Cleaning & Household   Bins & Bathroom Ware             Nakoda   \n",
       "4        Beauty & Hygiene       Bath & Hand Wash              Nivea   \n",
       "\n",
       "   sale_price  market_price                      type  user_id  rating  \\\n",
       "0       220.0         220.0          Hair Oil & Serum        2     4.1   \n",
       "1       180.0         180.0    Water & Fridge Bottles        8     2.3   \n",
       "2       119.0         250.0           Lamp & Lamp Oil    11400     3.4   \n",
       "3       149.0         176.0  Laundry, Storage Baskets    11676     3.7   \n",
       "4       162.0         162.0      Bathing Bars & Soaps    41385     4.4   \n",
       "\n",
       "                                         description  \n",
       "0  This Product contains Garlic Oil that is known...  \n",
       "1  Each product is microwave safe (without lid), ...  \n",
       "2  A perfect gift for all occasions, be it your m...  \n",
       "3  Multipurpose container with an attractive desi...  \n",
       "4  Nivea Creme Soft Soap gives your skin the best...  "
      ]
     },
     "execution_count": 4,
     "metadata": {},
     "output_type": "execute_result"
    }
   ],
   "source": [
    "# Display the Bigbasket dataset\n",
    "\n",
    "df.head()"
   ]
  },
  {
   "cell_type": "markdown",
   "id": "04cd6b03",
   "metadata": {},
   "source": [
    "# Data Cleaning\n",
    "\n",
    "### It involves filling of missing values, smoothing or removing noisy data and outliers along with resolving inconsistencies."
   ]
  },
  {
   "cell_type": "code",
   "execution_count": 5,
   "id": "fa6db82a",
   "metadata": {},
   "outputs": [
    {
     "name": "stdout",
     "output_type": "stream",
     "text": [
      "<class 'pandas.core.frame.DataFrame'>\n",
      "RangeIndex: 27555 entries, 0 to 27554\n",
      "Data columns (total 12 columns):\n",
      " #   Column        Non-Null Count  Dtype  \n",
      "---  ------        --------------  -----  \n",
      " 0   index         27555 non-null  int64  \n",
      " 1   product_id    27555 non-null  int64  \n",
      " 2   product_name  27554 non-null  object \n",
      " 3   category      27555 non-null  object \n",
      " 4   sub_category  27555 non-null  object \n",
      " 5   brand         27554 non-null  object \n",
      " 6   sale_price    27555 non-null  float64\n",
      " 7   market_price  27555 non-null  float64\n",
      " 8   type          27555 non-null  object \n",
      " 9   user_id       27555 non-null  int64  \n",
      " 10  rating        18929 non-null  float64\n",
      " 11  description   27440 non-null  object \n",
      "dtypes: float64(3), int64(3), object(6)\n",
      "memory usage: 2.5+ MB\n",
      "None\n"
     ]
    }
   ],
   "source": [
    "# Information about the dataset\n",
    "\n",
    "print (df.info())"
   ]
  },
  {
   "cell_type": "code",
   "execution_count": 6,
   "id": "895eac35",
   "metadata": {},
   "outputs": [
    {
     "data": {
      "text/plain": [
       "index              0\n",
       "product_id         0\n",
       "product_name       1\n",
       "category           0\n",
       "sub_category       0\n",
       "brand              1\n",
       "sale_price         0\n",
       "market_price       0\n",
       "type               0\n",
       "user_id            0\n",
       "rating          8626\n",
       "description      115\n",
       "dtype: int64"
      ]
     },
     "execution_count": 6,
     "metadata": {},
     "output_type": "execute_result"
    }
   ],
   "source": [
    "# Finding the null values Presented in the each column and Calculating the null values for each column\n",
    "\n",
    "df.isnull().sum()"
   ]
  },
  {
   "cell_type": "code",
   "execution_count": 7,
   "id": "16ca361f",
   "metadata": {},
   "outputs": [],
   "source": [
    "# Here, we dropping the null value from the dataset\n",
    "\n",
    "new = df.dropna()"
   ]
  },
  {
   "cell_type": "code",
   "execution_count": 8,
   "id": "b0b77903",
   "metadata": {},
   "outputs": [
    {
     "name": "stdout",
     "output_type": "stream",
     "text": [
      "<class 'pandas.core.frame.DataFrame'>\n",
      "Int64Index: 18840 entries, 0 to 27554\n",
      "Data columns (total 12 columns):\n",
      " #   Column        Non-Null Count  Dtype  \n",
      "---  ------        --------------  -----  \n",
      " 0   index         18840 non-null  int64  \n",
      " 1   product_id    18840 non-null  int64  \n",
      " 2   product_name  18840 non-null  object \n",
      " 3   category      18840 non-null  object \n",
      " 4   sub_category  18840 non-null  object \n",
      " 5   brand         18840 non-null  object \n",
      " 6   sale_price    18840 non-null  float64\n",
      " 7   market_price  18840 non-null  float64\n",
      " 8   type          18840 non-null  object \n",
      " 9   user_id       18840 non-null  int64  \n",
      " 10  rating        18840 non-null  float64\n",
      " 11  description   18840 non-null  object \n",
      "dtypes: float64(3), int64(3), object(6)\n",
      "memory usage: 1.9+ MB\n"
     ]
    }
   ],
   "source": [
    "new.info()"
   ]
  },
  {
   "cell_type": "markdown",
   "id": "9cfd6cd7",
   "metadata": {},
   "source": [
    "# Dimensionality Reduction\n",
    "\n",
    "### The number of input features, variables, or columns present in a given dataset is known as dimensionality, and the process to reduce these features is called dimensionality reduction."
   ]
  },
  {
   "cell_type": "code",
   "execution_count": 9,
   "id": "4fafa2fb",
   "metadata": {},
   "outputs": [],
   "source": [
    "# Now, we removing the unwanted column.\n",
    "\n",
    "var = ['index','sub_category', 'brand', 'type','description']\n",
    "new = new.drop(var, axis='columns')"
   ]
  },
  {
   "cell_type": "code",
   "execution_count": 10,
   "id": "d7f9a047",
   "metadata": {},
   "outputs": [
    {
     "data": {
      "text/html": [
       "<div>\n",
       "<style scoped>\n",
       "    .dataframe tbody tr th:only-of-type {\n",
       "        vertical-align: middle;\n",
       "    }\n",
       "\n",
       "    .dataframe tbody tr th {\n",
       "        vertical-align: top;\n",
       "    }\n",
       "\n",
       "    .dataframe thead th {\n",
       "        text-align: right;\n",
       "    }\n",
       "</style>\n",
       "<table border=\"1\" class=\"dataframe\">\n",
       "  <thead>\n",
       "    <tr style=\"text-align: right;\">\n",
       "      <th></th>\n",
       "      <th>product_id</th>\n",
       "      <th>product_name</th>\n",
       "      <th>category</th>\n",
       "      <th>sale_price</th>\n",
       "      <th>market_price</th>\n",
       "      <th>user_id</th>\n",
       "      <th>rating</th>\n",
       "    </tr>\n",
       "  </thead>\n",
       "  <tbody>\n",
       "    <tr>\n",
       "      <th>0</th>\n",
       "      <td>100001</td>\n",
       "      <td>Garlic Oil - Vegetarian Capsule 500 mg</td>\n",
       "      <td>Beauty &amp; Hygiene</td>\n",
       "      <td>220.0</td>\n",
       "      <td>220.0</td>\n",
       "      <td>2</td>\n",
       "      <td>4.1</td>\n",
       "    </tr>\n",
       "    <tr>\n",
       "      <th>1</th>\n",
       "      <td>100002</td>\n",
       "      <td>Water Bottle - Orange</td>\n",
       "      <td>Kitchen, Garden &amp; Pets</td>\n",
       "      <td>180.0</td>\n",
       "      <td>180.0</td>\n",
       "      <td>8</td>\n",
       "      <td>2.3</td>\n",
       "    </tr>\n",
       "    <tr>\n",
       "      <th>2</th>\n",
       "      <td>100003</td>\n",
       "      <td>Brass Angle Deep - Plain, No.2</td>\n",
       "      <td>Cleaning &amp; Household</td>\n",
       "      <td>119.0</td>\n",
       "      <td>250.0</td>\n",
       "      <td>11400</td>\n",
       "      <td>3.4</td>\n",
       "    </tr>\n",
       "    <tr>\n",
       "      <th>3</th>\n",
       "      <td>100004</td>\n",
       "      <td>Cereal Flip Lid Container/Storage Jar - Assort...</td>\n",
       "      <td>Cleaning &amp; Household</td>\n",
       "      <td>149.0</td>\n",
       "      <td>176.0</td>\n",
       "      <td>11676</td>\n",
       "      <td>3.7</td>\n",
       "    </tr>\n",
       "    <tr>\n",
       "      <th>4</th>\n",
       "      <td>100005</td>\n",
       "      <td>Creme Soft Soap - For Hands &amp; Body</td>\n",
       "      <td>Beauty &amp; Hygiene</td>\n",
       "      <td>162.0</td>\n",
       "      <td>162.0</td>\n",
       "      <td>41385</td>\n",
       "      <td>4.4</td>\n",
       "    </tr>\n",
       "  </tbody>\n",
       "</table>\n",
       "</div>"
      ],
      "text/plain": [
       "   product_id                                       product_name  \\\n",
       "0      100001             Garlic Oil - Vegetarian Capsule 500 mg   \n",
       "1      100002                              Water Bottle - Orange   \n",
       "2      100003                     Brass Angle Deep - Plain, No.2   \n",
       "3      100004  Cereal Flip Lid Container/Storage Jar - Assort...   \n",
       "4      100005                 Creme Soft Soap - For Hands & Body   \n",
       "\n",
       "                 category  sale_price  market_price  user_id  rating  \n",
       "0        Beauty & Hygiene       220.0         220.0        2     4.1  \n",
       "1  Kitchen, Garden & Pets       180.0         180.0        8     2.3  \n",
       "2    Cleaning & Household       119.0         250.0    11400     3.4  \n",
       "3    Cleaning & Household       149.0         176.0    11676     3.7  \n",
       "4        Beauty & Hygiene       162.0         162.0    41385     4.4  "
      ]
     },
     "execution_count": 10,
     "metadata": {},
     "output_type": "execute_result"
    }
   ],
   "source": [
    "# Displaying the dataset after removed some columns.\n",
    "\n",
    "new.head()"
   ]
  },
  {
   "cell_type": "code",
   "execution_count": 11,
   "id": "fd557cf8",
   "metadata": {},
   "outputs": [
    {
     "data": {
      "text/plain": [
       "product_id      0\n",
       "product_name    0\n",
       "category        0\n",
       "sale_price      0\n",
       "market_price    0\n",
       "user_id         0\n",
       "rating          0\n",
       "dtype: int64"
      ]
     },
     "execution_count": 11,
     "metadata": {},
     "output_type": "execute_result"
    }
   ],
   "source": [
    "#Checking the dataset it has null value or not.\n",
    "new.isnull().sum()"
   ]
  },
  {
   "cell_type": "code",
   "execution_count": 12,
   "id": "5c4ad039",
   "metadata": {},
   "outputs": [
    {
     "name": "stdout",
     "output_type": "stream",
     "text": [
      "Total Number of rows : 18840\n",
      "Total Number of columns : 7\n"
     ]
    }
   ],
   "source": [
    "# After cleaned dataset printing the no. of rows and columns.\n",
    "rows_count, columns_count = new.shape\n",
    "print('Total Number of rows :', rows_count)\n",
    "print('Total Number of columns :', columns_count)"
   ]
  },
  {
   "cell_type": "code",
   "execution_count": 13,
   "id": "7c0ea454",
   "metadata": {},
   "outputs": [],
   "source": [
    "# Now, Send the preprocessed dataset to create a new cleaned dataset.\n",
    "# new.to_csv('Cleaned Dataset of Bigbasket.csv') "
   ]
  },
  {
   "cell_type": "markdown",
   "id": "fe941a8b",
   "metadata": {},
   "source": [
    "# Exploratory Data Analysis\n",
    "\n",
    "### Visualizing the Data Set to Choose the Model or Algorithm\n"
   ]
  },
  {
   "cell_type": "code",
   "execution_count": 14,
   "id": "e2126db9",
   "metadata": {},
   "outputs": [],
   "source": [
    "#now i opening the cleaned dataset\n",
    "cleaned = pd.read_csv(\"Cleaned Dataset of Bigbasket.csv\")"
   ]
  },
  {
   "cell_type": "code",
   "execution_count": 15,
   "id": "4f5193e1",
   "metadata": {},
   "outputs": [
    {
     "data": {
      "text/html": [
       "<div>\n",
       "<style scoped>\n",
       "    .dataframe tbody tr th:only-of-type {\n",
       "        vertical-align: middle;\n",
       "    }\n",
       "\n",
       "    .dataframe tbody tr th {\n",
       "        vertical-align: top;\n",
       "    }\n",
       "\n",
       "    .dataframe thead th {\n",
       "        text-align: right;\n",
       "    }\n",
       "</style>\n",
       "<table border=\"1\" class=\"dataframe\">\n",
       "  <thead>\n",
       "    <tr style=\"text-align: right;\">\n",
       "      <th></th>\n",
       "      <th>Unnamed: 0</th>\n",
       "      <th>product_id</th>\n",
       "      <th>product_name</th>\n",
       "      <th>category</th>\n",
       "      <th>sale_price</th>\n",
       "      <th>market_price</th>\n",
       "      <th>user_id</th>\n",
       "      <th>rating</th>\n",
       "      <th>Rate</th>\n",
       "    </tr>\n",
       "  </thead>\n",
       "  <tbody>\n",
       "    <tr>\n",
       "      <th>0</th>\n",
       "      <td>0</td>\n",
       "      <td>100001</td>\n",
       "      <td>Garlic Oil - Vegetarian Capsule 500 mg</td>\n",
       "      <td>Beauty &amp; Hygiene</td>\n",
       "      <td>220.0</td>\n",
       "      <td>220.0</td>\n",
       "      <td>2</td>\n",
       "      <td>4.1</td>\n",
       "      <td>4</td>\n",
       "    </tr>\n",
       "    <tr>\n",
       "      <th>1</th>\n",
       "      <td>1</td>\n",
       "      <td>100002</td>\n",
       "      <td>Water Bottle - Orange</td>\n",
       "      <td>Kitchen, Garden &amp; Pets</td>\n",
       "      <td>180.0</td>\n",
       "      <td>180.0</td>\n",
       "      <td>8</td>\n",
       "      <td>2.3</td>\n",
       "      <td>2</td>\n",
       "    </tr>\n",
       "    <tr>\n",
       "      <th>2</th>\n",
       "      <td>2</td>\n",
       "      <td>100003</td>\n",
       "      <td>Brass Angle Deep - Plain, No.2</td>\n",
       "      <td>Cleaning &amp; Household</td>\n",
       "      <td>119.0</td>\n",
       "      <td>250.0</td>\n",
       "      <td>11400</td>\n",
       "      <td>3.4</td>\n",
       "      <td>3</td>\n",
       "    </tr>\n",
       "    <tr>\n",
       "      <th>3</th>\n",
       "      <td>3</td>\n",
       "      <td>100004</td>\n",
       "      <td>Cereal Flip Lid Container/Storage Jar - Assort...</td>\n",
       "      <td>Cleaning &amp; Household</td>\n",
       "      <td>149.0</td>\n",
       "      <td>176.0</td>\n",
       "      <td>11676</td>\n",
       "      <td>3.7</td>\n",
       "      <td>4</td>\n",
       "    </tr>\n",
       "    <tr>\n",
       "      <th>4</th>\n",
       "      <td>4</td>\n",
       "      <td>100005</td>\n",
       "      <td>Creme Soft Soap - For Hands &amp; Body</td>\n",
       "      <td>Beauty &amp; Hygiene</td>\n",
       "      <td>162.0</td>\n",
       "      <td>162.0</td>\n",
       "      <td>41385</td>\n",
       "      <td>4.4</td>\n",
       "      <td>4</td>\n",
       "    </tr>\n",
       "  </tbody>\n",
       "</table>\n",
       "</div>"
      ],
      "text/plain": [
       "   Unnamed: 0  product_id                                       product_name  \\\n",
       "0           0      100001             Garlic Oil - Vegetarian Capsule 500 mg   \n",
       "1           1      100002                              Water Bottle - Orange   \n",
       "2           2      100003                     Brass Angle Deep - Plain, No.2   \n",
       "3           3      100004  Cereal Flip Lid Container/Storage Jar - Assort...   \n",
       "4           4      100005                 Creme Soft Soap - For Hands & Body   \n",
       "\n",
       "                 category  sale_price  market_price  user_id  rating  Rate  \n",
       "0        Beauty & Hygiene       220.0         220.0        2     4.1     4  \n",
       "1  Kitchen, Garden & Pets       180.0         180.0        8     2.3     2  \n",
       "2    Cleaning & Household       119.0         250.0    11400     3.4     3  \n",
       "3    Cleaning & Household       149.0         176.0    11676     3.7     4  \n",
       "4        Beauty & Hygiene       162.0         162.0    41385     4.4     4  "
      ]
     },
     "execution_count": 15,
     "metadata": {},
     "output_type": "execute_result"
    }
   ],
   "source": [
    "cleaned.head()"
   ]
  },
  {
   "cell_type": "code",
   "execution_count": 16,
   "id": "e0a10eac",
   "metadata": {},
   "outputs": [
    {
     "data": {
      "text/plain": [
       "4.2    2239\n",
       "4.3    2131\n",
       "4.0    2084\n",
       "4.1    1760\n",
       "5.0    1402\n",
       "4.4    1031\n",
       "3.9     927\n",
       "3.8     859\n",
       "4.5     793\n",
       "3.0     683\n",
       "3.7     668\n",
       "3.5     534\n",
       "3.6     446\n",
       "3.3     398\n",
       "1.0     387\n",
       "4.6     322\n",
       "3.4     302\n",
       "4.7     284\n",
       "2.0     235\n",
       "4.8     197\n",
       "3.2     180\n",
       "3.1     161\n",
       "2.5     130\n",
       "2.8     125\n",
       "2.7     116\n",
       "2.3      94\n",
       "2.9      79\n",
       "2.6      57\n",
       "4.9      53\n",
       "1.5      32\n",
       "2.4      29\n",
       "2.2      24\n",
       "1.8      22\n",
       "1.7      22\n",
       "2.1      10\n",
       "1.3       9\n",
       "1.4       6\n",
       "1.9       4\n",
       "1.6       3\n",
       "1.2       2\n",
       "Name: rating, dtype: int64"
      ]
     },
     "execution_count": 16,
     "metadata": {},
     "output_type": "execute_result"
    }
   ],
   "source": [
    "#counting rating column \n",
    "cleaned['rating'].value_counts()"
   ]
  },
  {
   "cell_type": "markdown",
   "id": "b7892098",
   "metadata": {},
   "source": [
    "###  Here, I modifying the rating column to rate. Because I rounding the float value into a single digit value"
   ]
  },
  {
   "cell_type": "code",
   "execution_count": 17,
   "id": "71e19020",
   "metadata": {},
   "outputs": [
    {
     "data": {
      "text/plain": [
       "4    12679\n",
       "5     3051\n",
       "3     2231\n",
       "2      475\n",
       "1      404\n",
       "Name: Rate, dtype: int64"
      ]
     },
     "execution_count": 17,
     "metadata": {},
     "output_type": "execute_result"
    }
   ],
   "source": [
    "# Again,counting rating column.\n",
    "cleaned['Rate'].value_counts()"
   ]
  },
  {
   "cell_type": "code",
   "execution_count": 18,
   "id": "3b8ce01c",
   "metadata": {},
   "outputs": [
    {
     "data": {
      "text/html": [
       "<div>\n",
       "<style scoped>\n",
       "    .dataframe tbody tr th:only-of-type {\n",
       "        vertical-align: middle;\n",
       "    }\n",
       "\n",
       "    .dataframe tbody tr th {\n",
       "        vertical-align: top;\n",
       "    }\n",
       "\n",
       "    .dataframe thead th {\n",
       "        text-align: right;\n",
       "    }\n",
       "</style>\n",
       "<table border=\"1\" class=\"dataframe\">\n",
       "  <thead>\n",
       "    <tr style=\"text-align: right;\">\n",
       "      <th></th>\n",
       "      <th>Rate</th>\n",
       "      <th>Total_Counts</th>\n",
       "    </tr>\n",
       "  </thead>\n",
       "  <tbody>\n",
       "    <tr>\n",
       "      <th>0</th>\n",
       "      <td>4</td>\n",
       "      <td>12679</td>\n",
       "    </tr>\n",
       "    <tr>\n",
       "      <th>1</th>\n",
       "      <td>5</td>\n",
       "      <td>3051</td>\n",
       "    </tr>\n",
       "    <tr>\n",
       "      <th>2</th>\n",
       "      <td>3</td>\n",
       "      <td>2231</td>\n",
       "    </tr>\n",
       "    <tr>\n",
       "      <th>3</th>\n",
       "      <td>2</td>\n",
       "      <td>475</td>\n",
       "    </tr>\n",
       "    <tr>\n",
       "      <th>4</th>\n",
       "      <td>1</td>\n",
       "      <td>404</td>\n",
       "    </tr>\n",
       "  </tbody>\n",
       "</table>\n",
       "</div>"
      ],
      "text/plain": [
       "   Rate  Total_Counts\n",
       "0     4         12679\n",
       "1     5          3051\n",
       "2     3          2231\n",
       "3     2           475\n",
       "4     1           404"
      ]
     },
     "execution_count": 18,
     "metadata": {},
     "output_type": "execute_result"
    }
   ],
   "source": [
    "# Displaying the Rate and Total_counts in Dataframe\n",
    "rating_counts = pd.DataFrame(cleaned['Rate'].value_counts()).reset_index()\n",
    "rating_counts.columns = ['Rate', 'Total_Counts']\n",
    "rating_counts"
   ]
  },
  {
   "cell_type": "code",
   "execution_count": 19,
   "id": "b12c776f",
   "metadata": {},
   "outputs": [],
   "source": [
    "#sns.countplot(x ='Rate',data=cleaned, hue='Rate')"
   ]
  },
  {
   "cell_type": "code",
   "execution_count": 20,
   "id": "1525d79a",
   "metadata": {},
   "outputs": [
    {
     "data": {
      "image/png": "[encoded data removed]",
      "text/plain": [
       "<Figure size 640x480 with 1 Axes>"
      ]
     },
     "metadata": {},
     "output_type": "display_data"
    }
   ],
   "source": [
    "# Visualizing the Rate and Total_counts Using Bar Chart\n",
    "a=rating_counts['Rate']\n",
    "b=rating_counts['Total_Counts']\n",
    "sns.barplot(x=a,y=b,orient='v')\n",
    "plt.title(\"Vertical Bar Chart\")\n",
    "plt.show()"
   ]
  },
  {
   "cell_type": "markdown",
   "id": "a6aaf020",
   "metadata": {},
   "source": [
    "###    It's interesting that there are more people giving rating of  4 "
   ]
  },
  {
   "cell_type": "code",
   "execution_count": 21,
   "id": "dc7fa52b",
   "metadata": {},
   "outputs": [
    {
     "data": {
      "image/png": "[encoded data removed]",
      "text/plain": [
       "<Figure size 640x480 with 1 Axes>"
      ]
     },
     "metadata": {},
     "output_type": "display_data"
    }
   ],
   "source": [
    "a=rating_counts['Rate']\n",
    "b=rating_counts['Total_Counts']\n",
    "sns.barplot(x=b,y=a,orient='h')\n",
    "plt.title(\"Horizontal Bar Chart\")\n",
    "plt.show()"
   ]
  },
  {
   "cell_type": "code",
   "execution_count": 40,
   "id": "f8c1e109",
   "metadata": {},
   "outputs": [
    {
     "data": {
      "text/plain": [
       "<seaborn.axisgrid.FacetGrid at 0x18796d230a0>"
      ]
     },
     "execution_count": 40,
     "metadata": {},
     "output_type": "execute_result"
    },
    {
     "data": {
      "image/png": "[encoded data removed]",
      "text/plain": [
       "<Figure size 500x500 with 1 Axes>"
      ]
     },
     "metadata": {},
     "output_type": "display_data"
    },
    {
     "data": {
      "image/png": "[encoded data removed]",
      "text/plain": [
       "<Figure size 500x500 with 1 Axes>"
      ]
     },
     "metadata": {},
     "output_type": "display_data"
    },
    {
     "data": {
      "image/png": "[encoded data removed]",
      "text/plain": [
       "<Figure size 500x500 with 1 Axes>"
      ]
     },
     "metadata": {},
     "output_type": "display_data"
    }
   ],
   "source": [
    "import seaborn as sn\n",
    "# Let us understand the distribution of each attributes (product_id, rating, rate)\n",
    "\n",
    "# Distribution of Product\n",
    "sn.displot(data=cleaned, x=\"product_id\", kind=\"hist\", aspect=1)\n",
    "\n",
    "# Distribution of rating\n",
    "sn.displot(data=cleaned, x=\"rating\", kind=\"hist\", aspect=1)\n",
    "\n",
    "# Distribution of Rate\n",
    "sn.displot(data=cleaned, x=\"Rate\", kind=\"hist\", aspect=1)"
   ]
  },
  {
   "cell_type": "code",
   "execution_count": 23,
   "id": "e0d27b59",
   "metadata": {},
   "outputs": [
    {
     "data": {
      "text/plain": [
       "Unnamed: 0        int64\n",
       "product_id        int64\n",
       "product_name     object\n",
       "category         object\n",
       "sale_price      float64\n",
       "market_price    float64\n",
       "user_id           int64\n",
       "rating          float64\n",
       "Rate              int64\n",
       "dtype: object"
      ]
     },
     "execution_count": 23,
     "metadata": {},
     "output_type": "execute_result"
    }
   ],
   "source": [
    "cleaned.dtypes"
   ]
  },
  {
   "cell_type": "markdown",
   "id": "e4022e23",
   "metadata": {},
   "source": [
    "# Building the 1st Model - Implemeting the Nearest Neighbor Model"
   ]
  },
  {
   "cell_type": "markdown",
   "id": "b2fc7657",
   "metadata": {},
   "source": [
    "## KNN model for item-based collaborative filtering\n",
    "###  Reshaping the Dataset\n",
    "##### For K-Nearest Neighbors, we want the data to be in an array, where each row is a product and each column is a different user. To reshape the dataframe, we'll pivot the dataframe to the wide format with product as rows and users as columns. Then we'll fill the missing observations with 0s since we're going to be performing linear algebra operations (calculating distances between vectors). Finally, we transform the values of the dataframe into a scipy sparse matrix for more efficient calculations."
   ]
  },
  {
   "cell_type": "code",
   "execution_count": 24,
   "id": "87dec470",
   "metadata": {},
   "outputs": [],
   "source": [
    "#pivot table and create product-user matrix\n",
    "\n",
    "product_mat = cleaned.pivot(index='product_id', columns='user_id', values='Rate').fillna(0)"
   ]
  },
  {
   "cell_type": "code",
   "execution_count": 25,
   "id": "1c06c904",
   "metadata": {
    "scrolled": true
   },
   "outputs": [
    {
     "data": {
      "text/html": [
       "<div>\n",
       "<style scoped>\n",
       "    .dataframe tbody tr th:only-of-type {\n",
       "        vertical-align: middle;\n",
       "    }\n",
       "\n",
       "    .dataframe tbody tr th {\n",
       "        vertical-align: top;\n",
       "    }\n",
       "\n",
       "    .dataframe thead th {\n",
       "        text-align: right;\n",
       "    }\n",
       "</style>\n",
       "<table border=\"1\" class=\"dataframe\">\n",
       "  <thead>\n",
       "    <tr style=\"text-align: right;\">\n",
       "      <th>user_id</th>\n",
       "      <th>2</th>\n",
       "      <th>8</th>\n",
       "      <th>9</th>\n",
       "      <th>12</th>\n",
       "      <th>14</th>\n",
       "      <th>16</th>\n",
       "      <th>17</th>\n",
       "      <th>19</th>\n",
       "      <th>20</th>\n",
       "      <th>22</th>\n",
       "      <th>...</th>\n",
       "      <th>278535</th>\n",
       "      <th>278554</th>\n",
       "      <th>278561</th>\n",
       "      <th>278633</th>\n",
       "      <th>278681</th>\n",
       "      <th>278723</th>\n",
       "      <th>278819</th>\n",
       "      <th>278832</th>\n",
       "      <th>278843</th>\n",
       "      <th>278851</th>\n",
       "    </tr>\n",
       "    <tr>\n",
       "      <th>product_id</th>\n",
       "      <th></th>\n",
       "      <th></th>\n",
       "      <th></th>\n",
       "      <th></th>\n",
       "      <th></th>\n",
       "      <th></th>\n",
       "      <th></th>\n",
       "      <th></th>\n",
       "      <th></th>\n",
       "      <th></th>\n",
       "      <th></th>\n",
       "      <th></th>\n",
       "      <th></th>\n",
       "      <th></th>\n",
       "      <th></th>\n",
       "      <th></th>\n",
       "      <th></th>\n",
       "      <th></th>\n",
       "      <th></th>\n",
       "      <th></th>\n",
       "      <th></th>\n",
       "    </tr>\n",
       "  </thead>\n",
       "  <tbody>\n",
       "    <tr>\n",
       "      <th>100001</th>\n",
       "      <td>4.0</td>\n",
       "      <td>0.0</td>\n",
       "      <td>0.0</td>\n",
       "      <td>0.0</td>\n",
       "      <td>0.0</td>\n",
       "      <td>0.0</td>\n",
       "      <td>0.0</td>\n",
       "      <td>0.0</td>\n",
       "      <td>0.0</td>\n",
       "      <td>0.0</td>\n",
       "      <td>...</td>\n",
       "      <td>0.0</td>\n",
       "      <td>0.0</td>\n",
       "      <td>0.0</td>\n",
       "      <td>0.0</td>\n",
       "      <td>0.0</td>\n",
       "      <td>0.0</td>\n",
       "      <td>0.0</td>\n",
       "      <td>0.0</td>\n",
       "      <td>0.0</td>\n",
       "      <td>0.0</td>\n",
       "    </tr>\n",
       "    <tr>\n",
       "      <th>100002</th>\n",
       "      <td>0.0</td>\n",
       "      <td>2.0</td>\n",
       "      <td>0.0</td>\n",
       "      <td>0.0</td>\n",
       "      <td>0.0</td>\n",
       "      <td>0.0</td>\n",
       "      <td>0.0</td>\n",
       "      <td>0.0</td>\n",
       "      <td>0.0</td>\n",
       "      <td>0.0</td>\n",
       "      <td>...</td>\n",
       "      <td>0.0</td>\n",
       "      <td>0.0</td>\n",
       "      <td>0.0</td>\n",
       "      <td>0.0</td>\n",
       "      <td>0.0</td>\n",
       "      <td>0.0</td>\n",
       "      <td>0.0</td>\n",
       "      <td>0.0</td>\n",
       "      <td>0.0</td>\n",
       "      <td>0.0</td>\n",
       "    </tr>\n",
       "    <tr>\n",
       "      <th>100003</th>\n",
       "      <td>0.0</td>\n",
       "      <td>0.0</td>\n",
       "      <td>0.0</td>\n",
       "      <td>0.0</td>\n",
       "      <td>0.0</td>\n",
       "      <td>0.0</td>\n",
       "      <td>0.0</td>\n",
       "      <td>0.0</td>\n",
       "      <td>0.0</td>\n",
       "      <td>0.0</td>\n",
       "      <td>...</td>\n",
       "      <td>0.0</td>\n",
       "      <td>0.0</td>\n",
       "      <td>0.0</td>\n",
       "      <td>0.0</td>\n",
       "      <td>0.0</td>\n",
       "      <td>0.0</td>\n",
       "      <td>0.0</td>\n",
       "      <td>0.0</td>\n",
       "      <td>0.0</td>\n",
       "      <td>0.0</td>\n",
       "    </tr>\n",
       "    <tr>\n",
       "      <th>100004</th>\n",
       "      <td>0.0</td>\n",
       "      <td>0.0</td>\n",
       "      <td>0.0</td>\n",
       "      <td>0.0</td>\n",
       "      <td>0.0</td>\n",
       "      <td>0.0</td>\n",
       "      <td>0.0</td>\n",
       "      <td>0.0</td>\n",
       "      <td>0.0</td>\n",
       "      <td>0.0</td>\n",
       "      <td>...</td>\n",
       "      <td>0.0</td>\n",
       "      <td>0.0</td>\n",
       "      <td>0.0</td>\n",
       "      <td>0.0</td>\n",
       "      <td>0.0</td>\n",
       "      <td>0.0</td>\n",
       "      <td>0.0</td>\n",
       "      <td>0.0</td>\n",
       "      <td>0.0</td>\n",
       "      <td>0.0</td>\n",
       "    </tr>\n",
       "    <tr>\n",
       "      <th>100005</th>\n",
       "      <td>0.0</td>\n",
       "      <td>0.0</td>\n",
       "      <td>0.0</td>\n",
       "      <td>0.0</td>\n",
       "      <td>0.0</td>\n",
       "      <td>0.0</td>\n",
       "      <td>0.0</td>\n",
       "      <td>0.0</td>\n",
       "      <td>0.0</td>\n",
       "      <td>0.0</td>\n",
       "      <td>...</td>\n",
       "      <td>0.0</td>\n",
       "      <td>0.0</td>\n",
       "      <td>0.0</td>\n",
       "      <td>0.0</td>\n",
       "      <td>0.0</td>\n",
       "      <td>0.0</td>\n",
       "      <td>0.0</td>\n",
       "      <td>0.0</td>\n",
       "      <td>0.0</td>\n",
       "      <td>0.0</td>\n",
       "    </tr>\n",
       "  </tbody>\n",
       "</table>\n",
       "<p>5 rows × 9739 columns</p>\n",
       "</div>"
      ],
      "text/plain": [
       "user_id     2       8       9       12      14      16      17      19      \\\n",
       "product_id                                                                   \n",
       "100001         4.0     0.0     0.0     0.0     0.0     0.0     0.0     0.0   \n",
       "100002         0.0     2.0     0.0     0.0     0.0     0.0     0.0     0.0   \n",
       "100003         0.0     0.0     0.0     0.0     0.0     0.0     0.0     0.0   \n",
       "100004         0.0     0.0     0.0     0.0     0.0     0.0     0.0     0.0   \n",
       "100005         0.0     0.0     0.0     0.0     0.0     0.0     0.0     0.0   \n",
       "\n",
       "user_id     20      22      ...  278535  278554  278561  278633  278681  \\\n",
       "product_id                  ...                                           \n",
       "100001         0.0     0.0  ...     0.0     0.0     0.0     0.0     0.0   \n",
       "100002         0.0     0.0  ...     0.0     0.0     0.0     0.0     0.0   \n",
       "100003         0.0     0.0  ...     0.0     0.0     0.0     0.0     0.0   \n",
       "100004         0.0     0.0  ...     0.0     0.0     0.0     0.0     0.0   \n",
       "100005         0.0     0.0  ...     0.0     0.0     0.0     0.0     0.0   \n",
       "\n",
       "user_id     278723  278819  278832  278843  278851  \n",
       "product_id                                          \n",
       "100001         0.0     0.0     0.0     0.0     0.0  \n",
       "100002         0.0     0.0     0.0     0.0     0.0  \n",
       "100003         0.0     0.0     0.0     0.0     0.0  \n",
       "100004         0.0     0.0     0.0     0.0     0.0  \n",
       "100005         0.0     0.0     0.0     0.0     0.0  \n",
       "\n",
       "[5 rows x 9739 columns]"
      ]
     },
     "execution_count": 25,
     "metadata": {},
     "output_type": "execute_result"
    }
   ],
   "source": [
    "product_mat.head()"
   ]
  },
  {
   "cell_type": "code",
   "execution_count": 26,
   "id": "9a203d41",
   "metadata": {},
   "outputs": [
    {
     "data": {
      "text/plain": [
       "(18840, 9739)"
      ]
     },
     "execution_count": 26,
     "metadata": {},
     "output_type": "execute_result"
    }
   ],
   "source": [
    "product_mat.shape"
   ]
  },
  {
   "cell_type": "code",
   "execution_count": 27,
   "id": "4ade1eda",
   "metadata": {},
   "outputs": [],
   "source": [
    "# create mapper from movie title to index\n",
    "\n",
    "product_to_idx = {\n",
    "    product: i for i, product in \n",
    "    enumerate(list(cleaned.set_index('product_id').loc[product_mat.index].product_name))\n",
    "}"
   ]
  },
  {
   "cell_type": "code",
   "execution_count": 28,
   "id": "229e0bd5",
   "metadata": {},
   "outputs": [],
   "source": [
    "# importing sprase matrix from scipy library\n",
    "# convert dataframe of Product features to scipy sparse matrix\n",
    "from scipy.sparse import csr_matrix  \n",
    "\n",
    "product_sparse = csr_matrix(product_mat.values)"
   ]
  },
  {
   "cell_type": "code",
   "execution_count": 29,
   "id": "68ae16c1",
   "metadata": {},
   "outputs": [
    {
     "data": {
      "text/plain": [
       "<18840x9739 sparse matrix of type '<class 'numpy.float64'>'\n",
       "\twith 18840 stored elements in Compressed Sparse Row format>"
      ]
     },
     "execution_count": 29,
     "metadata": {},
     "output_type": "execute_result"
    }
   ],
   "source": [
    "product_sparse"
   ]
  },
  {
   "cell_type": "markdown",
   "id": "4d0aa1f2",
   "metadata": {},
   "source": [
    "### Fitting the Model\n",
    "\n",
    "##### Time to implement the model. We’ll initialize the NearestNeighbors class as model_knn and fit our sparse matrix to the instance. By specifying the metric = cosine, the model will measure similarity bectween artist vectors by using cosine similarity.\n"
   ]
  },
  {
   "cell_type": "code",
   "execution_count": 30,
   "id": "377bf05c",
   "metadata": {},
   "outputs": [
    {
     "data": {
      "text/html": [
       "<style>#sk-container-id-1 {color: black;background-color: white;}#sk-container-id-1 pre{padding: 0;}#sk-container-id-1 div.sk-toggleable {background-color: white;}#sk-container-id-1 label.sk-toggleable__label {cursor: pointer;display: block;width: 100%;margin-bottom: 0;padding: 0.3em;box-sizing: border-box;text-align: center;}#sk-container-id-1 label.sk-toggleable__label-arrow:before {content: \"▸\";float: left;margin-right: 0.25em;color: #696969;}#sk-container-id-1 label.sk-toggleable__label-arrow:hover:before {color: black;}#sk-container-id-1 div.sk-estimator:hover label.sk-toggleable__label-arrow:before {color: black;}#sk-container-id-1 div.sk-toggleable__content {max-height: 0;max-width: 0;overflow: hidden;text-align: left;background-color: #f0f8ff;}#sk-container-id-1 div.sk-toggleable__content pre {margin: 0.2em;color: black;border-radius: 0.25em;background-color: #f0f8ff;}#sk-container-id-1 input.sk-toggleable__control:checked~div.sk-toggleable__content {max-height: 200px;max-width: 100%;overflow: auto;}#sk-container-id-1 input.sk-toggleable__control:checked~label.sk-toggleable__label-arrow:before {content: \"▾\";}#sk-container-id-1 div.sk-estimator input.sk-toggleable__control:checked~label.sk-toggleable__label {background-color: #d4ebff;}#sk-container-id-1 div.sk-label input.sk-toggleable__control:checked~label.sk-toggleable__label {background-color: #d4ebff;}#sk-container-id-1 input.sk-hidden--visually {border: 0;clip: rect(1px 1px 1px 1px);clip: rect(1px, 1px, 1px, 1px);height: 1px;margin: -1px;overflow: hidden;padding: 0;position: absolute;width: 1px;}#sk-container-id-1 div.sk-estimator {font-family: monospace;background-color: #f0f8ff;border: 1px dotted black;border-radius: 0.25em;box-sizing: border-box;margin-bottom: 0.5em;}#sk-container-id-1 div.sk-estimator:hover {background-color: #d4ebff;}#sk-container-id-1 div.sk-parallel-item::after {content: \"\";width: 100%;border-bottom: 1px solid gray;flex-grow: 1;}#sk-container-id-1 div.sk-label:hover label.sk-toggleable__label {background-color: #d4ebff;}#sk-container-id-1 div.sk-serial::before {content: \"\";position: absolute;border-left: 1px solid gray;box-sizing: border-box;top: 0;bottom: 0;left: 50%;z-index: 0;}#sk-container-id-1 div.sk-serial {display: flex;flex-direction: column;align-items: center;background-color: white;padding-right: 0.2em;padding-left: 0.2em;position: relative;}#sk-container-id-1 div.sk-item {position: relative;z-index: 1;}#sk-container-id-1 div.sk-parallel {display: flex;align-items: stretch;justify-content: center;background-color: white;position: relative;}#sk-container-id-1 div.sk-item::before, #sk-container-id-1 div.sk-parallel-item::before {content: \"\";position: absolute;border-left: 1px solid gray;box-sizing: border-box;top: 0;bottom: 0;left: 50%;z-index: -1;}#sk-container-id-1 div.sk-parallel-item {display: flex;flex-direction: column;z-index: 1;position: relative;background-color: white;}#sk-container-id-1 div.sk-parallel-item:first-child::after {align-self: flex-end;width: 50%;}#sk-container-id-1 div.sk-parallel-item:last-child::after {align-self: flex-start;width: 50%;}#sk-container-id-1 div.sk-parallel-item:only-child::after {width: 0;}#sk-container-id-1 div.sk-dashed-wrapped {border: 1px dashed gray;margin: 0 0.4em 0.5em 0.4em;box-sizing: border-box;padding-bottom: 0.4em;background-color: white;}#sk-container-id-1 div.sk-label label {font-family: monospace;font-weight: bold;display: inline-block;line-height: 1.2em;}#sk-container-id-1 div.sk-label-container {text-align: center;}#sk-container-id-1 div.sk-container {/* jupyter's `normalize.less` sets `[hidden] { display: none; }` but bootstrap.min.css set `[hidden] { display: none !important; }` so we also need the `!important` here to be able to override the default hidden behavior on the sphinx rendered scikit-learn.org. See: https://github.com/scikit-learn/scikit-learn/issues/21755 */display: inline-block !important;position: relative;}#sk-container-id-1 div.sk-text-repr-fallback {display: none;}</style><div id=\"sk-container-id-1\" class=\"sk-top-container\"><div class=\"sk-text-repr-fallback\"><pre>NearestNeighbors(algorithm=&#x27;brute&#x27;, metric=&#x27;cosine&#x27;, n_jobs=-1, n_neighbors=20)</pre><b>In a Jupyter environment, please rerun this cell to show the HTML representation or trust the notebook. <br />On GitHub, the HTML representation is unable to render, please try loading this page with nbviewer.org.</b></div><div class=\"sk-container\" hidden><div class=\"sk-item\"><div class=\"sk-estimator sk-toggleable\"><input class=\"sk-toggleable__control sk-hidden--visually\" id=\"sk-estimator-id-1\" type=\"checkbox\" checked><label for=\"sk-estimator-id-1\" class=\"sk-toggleable__label sk-toggleable__label-arrow\">NearestNeighbors</label><div class=\"sk-toggleable__content\"><pre>NearestNeighbors(algorithm=&#x27;brute&#x27;, metric=&#x27;cosine&#x27;, n_jobs=-1, n_neighbors=20)</pre></div></div></div></div></div>"
      ],
      "text/plain": [
       "NearestNeighbors(algorithm='brute', metric='cosine', n_jobs=-1, n_neighbors=20)"
      ]
     },
     "execution_count": 30,
     "metadata": {},
     "output_type": "execute_result"
    }
   ],
   "source": [
    "#importing knn algorithm from sklearn library\n",
    "from sklearn.neighbors import NearestNeighbors\n",
    "model_knn = NearestNeighbors(metric='cosine', algorithm='brute', n_neighbors=20, n_jobs=-1)\n",
    "model_knn.fit(product_sparse)"
   ]
  },
  {
   "cell_type": "markdown",
   "id": "755bba93",
   "metadata": {},
   "source": [
    "### Here I use the fuzzywuzzy library to find the product name that is in dataset or not\n"
   ]
  },
  {
   "cell_type": "code",
   "execution_count": 31,
   "id": "0a4ecf8e",
   "metadata": {},
   "outputs": [],
   "source": [
    "#defining function\n",
    "from fuzzywuzzy import fuzz\n",
    "\n",
    "def fuzzy_matching(mapper, fav_product, verbose=True):\n",
    "  \n",
    "    match_tuple = []\n",
    "    # get match\n",
    "    for product_name, idx in mapper.items():\n",
    "        ratio = fuzz.ratio(product_name.lower(), fav_product.lower())\n",
    "        if ratio >= 60:\n",
    "            match_tuple.append((product_name, idx, ratio))\n",
    "    # sort\n",
    "    match_tuple = sorted(match_tuple, key=lambda x: x[2])[::-1]\n",
    "    if not match_tuple:\n",
    "        print('Oops! No match is found')\n",
    "        return\n",
    "    if verbose:\n",
    "        print('Found possible matches in our dataset: {0}\\n'.format([x[0] for x in match_tuple]))\n",
    "    return match_tuple[0][1]"
   ]
  },
  {
   "cell_type": "markdown",
   "id": "d843a1d9",
   "metadata": {},
   "source": [
    "## Here I write the function to recommend the product"
   ]
  },
  {
   "cell_type": "code",
   "execution_count": 32,
   "id": "9b8da976",
   "metadata": {},
   "outputs": [],
   "source": [
    "def make_recommendation(model_knn, data, mapper, fav_product, n_recommendations):\n",
    "   \n",
    "    # fit\n",
    "    model_knn.fit(data)\n",
    "    # get input product index\n",
    "    print('You have input product:', fav_product)\n",
    "    idx = fuzzy_matching(mapper, fav_product, verbose=True)\n",
    "    # inference\n",
    "    print('Recommendation system start to make inference')\n",
    "    print('......\\n')\n",
    "    distances, indices = model_knn.kneighbors(data[idx], n_neighbors=n_recommendations+1)\n",
    "    # get list of raw idx of recommendations\n",
    "    raw_recommends = \\\n",
    "        sorted(list(zip(indices.squeeze().tolist(), distances.squeeze().tolist())), key=lambda x: x[1])[:0:-1]\n",
    "    # get reverse mapper\n",
    "    reverse_mapper = {v: k for k, v in mapper.items()}\n",
    "    # print recommendations\n",
    "    print('Recommendations for {}:'.format(fav_product))\n",
    "    for i, (idx, dist) in enumerate(raw_recommends):\n",
    "        print('{0}: {1}, with distance of {2}'.format(i+1, reverse_mapper[idx], dist))"
   ]
  },
  {
   "cell_type": "markdown",
   "id": "b1ea99e5",
   "metadata": {},
   "source": [
    "## Here I specifically entering the product that I want and It goes to make_recommendation method and then it gives the recommendation "
   ]
  },
  {
   "cell_type": "code",
   "execution_count": 33,
   "id": "8c0ccee1",
   "metadata": {},
   "outputs": [
    {
     "name": "stdout",
     "output_type": "stream",
     "text": [
      "You have input product: cookies\n",
      "Found possible matches in our dataset: ['Oat Cookies', 'Chia Cookies', 'Milk Cookies', 'Fruit Cookies', 'Cashew Cookies', 'Ginger Cookies', 'Cookies - Milk', 'Butter Cookies', 'Chocopie', 'Cookies & Crème', 'Brownie Cookies', 'Cooking Soda', 'Chocos', 'Assorted Cookies', 'Cookies - Ginger', 'Cookies - Butter', 'Cookies - Cashew', 'Dipped Cookie', 'Cooking Sheet']\n",
      "\n",
      "Recommendation system start to make inference\n",
      "......\n",
      "\n",
      "Recommendations for cookies:\n",
      "1: Peanut Rice Paper Sauce, with distance of 1.0\n",
      "2: Bleach - Original, with distance of 1.0\n",
      "3: Knife - Dicing, with distance of 0.0\n",
      "4: Oat Cookies, with distance of 0.0\n"
     ]
    }
   ],
   "source": [
    "# butter, rice, cookies, \n",
    "my_favorite = 'cookies'\n",
    "\n",
    "make_recommendation(\n",
    "    model_knn=model_knn,\n",
    "    data=product_sparse,\n",
    "    fav_product=my_favorite,\n",
    "    mapper=product_to_idx,\n",
    "    n_recommendations=4)"
   ]
  },
  {
   "cell_type": "markdown",
   "id": "82208340",
   "metadata": {},
   "source": [
    "### Checking the Accuracy "
   ]
  },
  {
   "cell_type": "code",
   "execution_count": 34,
   "id": "08a28315",
   "metadata": {},
   "outputs": [
    {
     "name": "stdout",
     "output_type": "stream",
     "text": [
      "There is about 99.99% of ratings in our data is missing\n"
     ]
    }
   ],
   "source": [
    "# calcuate total number of entries in the product-user matrix\n",
    "num_entries = product_mat.shape[0] * product_mat.shape[1]\n",
    "# calculate total number of entries with zero values\n",
    "num_zeros = (product_mat==0).sum(axis=1).sum()\n",
    "# calculate ratio of number of zeros to number of entries\n",
    "ratio_zeros = num_zeros / num_entries\n",
    "print('There is about {:.2%} of ratings in our data is missing'.format(ratio_zeros))"
   ]
  },
  {
   "cell_type": "code",
   "execution_count": null,
   "id": "136c3ea0",
   "metadata": {},
   "outputs": [],
   "source": []
  },
  {
   "cell_type": "code",
   "execution_count": null,
   "id": "f2d26e48",
   "metadata": {},
   "outputs": [],
   "source": []
  }
 ],
 "metadata": {
  "kernelspec": {
   "display_name": "Python 3 (ipykernel)",
   "language": "python",
   "name": "python3"
  },
  "language_info": {
   "codemirror_mode": {
    "name": "ipython",
    "version": 3
   },
   "file_extension": ".py",
   "mimetype": "text/x-python",
   "name": "python",
   "nbconvert_exporter": "python",
   "pygments_lexer": "ipython3",
   "version": "3.10.7"
  }
 },
 "nbformat": 4,
 "nbformat_minor": 5
}
