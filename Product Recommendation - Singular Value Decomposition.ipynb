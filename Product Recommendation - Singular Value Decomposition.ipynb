{
 "cells": [
  {
   "cell_type": "code",
   "execution_count": 1,
   "id": "f701cae5",
   "metadata": {},
   "outputs": [],
   "source": [
    "import os\n",
    "import pandas as pd\n",
    "import numpy as np\n",
    "import seaborn as sn\n",
    "import sklearn\n",
    "from sklearn.decomposition import TruncatedSVD\n",
    "from sklearn.metrics import mean_squared_error"
   ]
  },
  {
   "cell_type": "code",
   "execution_count": 2,
   "id": "34d84f8f",
   "metadata": {},
   "outputs": [],
   "source": [
    "df = pd.read_csv('Cleaned Dataset.csv')"
   ]
  },
  {
   "cell_type": "code",
   "execution_count": 3,
   "id": "f2c8fa98",
   "metadata": {},
   "outputs": [],
   "source": [
    "# import pandas as pd\n",
    "# import pandas_profiling\n",
    "\n",
    "# # load sample dataset\n",
    "# df = pd.read_csv('sample_dataset.csv')\n",
    "\n",
    "# # generate report\n",
    "# report = pandas_profiling.ProfileReport(df)"
   ]
  },
  {
   "cell_type": "code",
   "execution_count": 4,
   "id": "83bc5f7c",
   "metadata": {},
   "outputs": [
    {
     "data": {
      "text/plain": [
       "(18840, 8)"
      ]
     },
     "execution_count": 4,
     "metadata": {},
     "output_type": "execute_result"
    }
   ],
   "source": [
    "df.shape"
   ]
  },
  {
   "cell_type": "code",
   "execution_count": 5,
   "id": "b4e16185",
   "metadata": {},
   "outputs": [
    {
     "name": "stdout",
     "output_type": "stream",
     "text": [
      "<class 'pandas.core.frame.DataFrame'>\n",
      "RangeIndex: 18840 entries, 0 to 18839\n",
      "Data columns (total 8 columns):\n",
      " #   Column        Non-Null Count  Dtype  \n",
      "---  ------        --------------  -----  \n",
      " 0   Unnamed: 0    18840 non-null  int64  \n",
      " 1   product_id    18840 non-null  int64  \n",
      " 2   product name  18840 non-null  object \n",
      " 3   sale_price    18840 non-null  float64\n",
      " 4   market_price  18840 non-null  float64\n",
      " 5   user_id       18840 non-null  int64  \n",
      " 6   rating        18840 non-null  float64\n",
      " 7   Rate          18840 non-null  int64  \n",
      "dtypes: float64(3), int64(4), object(1)\n",
      "memory usage: 1.2+ MB\n"
     ]
    }
   ],
   "source": [
    "df.info()"
   ]
  },
  {
   "cell_type": "code",
   "execution_count": 6,
   "id": "7153b00e",
   "metadata": {},
   "outputs": [
    {
     "data": {
      "text/plain": [
       "Index(['Unnamed: 0', 'product_id', 'product name', 'sale_price',\n",
       "       'market_price', 'user_id', 'rating', 'Rate'],\n",
       "      dtype='object')"
      ]
     },
     "execution_count": 6,
     "metadata": {},
     "output_type": "execute_result"
    }
   ],
   "source": [
    "df.columns"
   ]
  },
  {
   "cell_type": "code",
   "execution_count": 7,
   "id": "47c7f394",
   "metadata": {},
   "outputs": [
    {
     "data": {
      "text/html": [
       "<div>\n",
       "<style scoped>\n",
       "    .dataframe tbody tr th:only-of-type {\n",
       "        vertical-align: middle;\n",
       "    }\n",
       "\n",
       "    .dataframe tbody tr th {\n",
       "        vertical-align: top;\n",
       "    }\n",
       "\n",
       "    .dataframe thead th {\n",
       "        text-align: right;\n",
       "    }\n",
       "</style>\n",
       "<table border=\"1\" class=\"dataframe\">\n",
       "  <thead>\n",
       "    <tr style=\"text-align: right;\">\n",
       "      <th></th>\n",
       "      <th>Unnamed: 0</th>\n",
       "      <th>product_id</th>\n",
       "      <th>product name</th>\n",
       "      <th>sale_price</th>\n",
       "      <th>market_price</th>\n",
       "      <th>user_id</th>\n",
       "      <th>rating</th>\n",
       "      <th>Rate</th>\n",
       "    </tr>\n",
       "  </thead>\n",
       "  <tbody>\n",
       "    <tr>\n",
       "      <th>0</th>\n",
       "      <td>0</td>\n",
       "      <td>100001</td>\n",
       "      <td>Garlic Oil - Vegetarian Capsule 500 mg</td>\n",
       "      <td>220.0</td>\n",
       "      <td>220.0</td>\n",
       "      <td>2</td>\n",
       "      <td>4.1</td>\n",
       "      <td>4</td>\n",
       "    </tr>\n",
       "    <tr>\n",
       "      <th>1</th>\n",
       "      <td>1</td>\n",
       "      <td>100002</td>\n",
       "      <td>Water Bottle - Orange</td>\n",
       "      <td>180.0</td>\n",
       "      <td>180.0</td>\n",
       "      <td>8</td>\n",
       "      <td>2.3</td>\n",
       "      <td>2</td>\n",
       "    </tr>\n",
       "    <tr>\n",
       "      <th>2</th>\n",
       "      <td>2</td>\n",
       "      <td>100003</td>\n",
       "      <td>Brass Angle Deep - Plain, No.2</td>\n",
       "      <td>119.0</td>\n",
       "      <td>250.0</td>\n",
       "      <td>11400</td>\n",
       "      <td>3.4</td>\n",
       "      <td>3</td>\n",
       "    </tr>\n",
       "    <tr>\n",
       "      <th>3</th>\n",
       "      <td>3</td>\n",
       "      <td>100004</td>\n",
       "      <td>Cereal Flip Lid Container/Storage Jar - Assort...</td>\n",
       "      <td>149.0</td>\n",
       "      <td>176.0</td>\n",
       "      <td>11676</td>\n",
       "      <td>3.7</td>\n",
       "      <td>4</td>\n",
       "    </tr>\n",
       "    <tr>\n",
       "      <th>4</th>\n",
       "      <td>4</td>\n",
       "      <td>100005</td>\n",
       "      <td>Creme Soft Soap - For Hands &amp; Body</td>\n",
       "      <td>162.0</td>\n",
       "      <td>162.0</td>\n",
       "      <td>41385</td>\n",
       "      <td>4.4</td>\n",
       "      <td>4</td>\n",
       "    </tr>\n",
       "  </tbody>\n",
       "</table>\n",
       "</div>"
      ],
      "text/plain": [
       "   Unnamed: 0  product_id                                       product name  \\\n",
       "0           0      100001             Garlic Oil - Vegetarian Capsule 500 mg   \n",
       "1           1      100002                              Water Bottle - Orange   \n",
       "2           2      100003                     Brass Angle Deep - Plain, No.2   \n",
       "3           3      100004  Cereal Flip Lid Container/Storage Jar - Assort...   \n",
       "4           4      100005                 Creme Soft Soap - For Hands & Body   \n",
       "\n",
       "   sale_price  market_price  user_id  rating  Rate  \n",
       "0       220.0         220.0        2     4.1     4  \n",
       "1       180.0         180.0        8     2.3     2  \n",
       "2       119.0         250.0    11400     3.4     3  \n",
       "3       149.0         176.0    11676     3.7     4  \n",
       "4       162.0         162.0    41385     4.4     4  "
      ]
     },
     "execution_count": 7,
     "metadata": {},
     "output_type": "execute_result"
    }
   ],
   "source": [
    "\n",
    "df.head()"
   ]
  },
  {
   "cell_type": "code",
   "execution_count": 8,
   "id": "2209c128",
   "metadata": {},
   "outputs": [
    {
     "data": {
      "text/plain": [
       "<seaborn.axisgrid.FacetGrid at 0x23171f33700>"
      ]
     },
     "execution_count": 8,
     "metadata": {},
     "output_type": "execute_result"
    },
    {
     "data": {
      "image/png": "[encoded data removed]",
      "text/plain": [
       "<Figure size 500x500 with 1 Axes>"
      ]
     },
     "metadata": {},
     "output_type": "display_data"
    },
    {
     "data": {
      "image/png": "[encoded data removed]",
      "text/plain": [
       "<Figure size 500x500 with 1 Axes>"
      ]
     },
     "metadata": {},
     "output_type": "display_data"
    },
    {
     "data": {
      "image/png": "[encoded data removed]",
      "text/plain": [
       "<Figure size 500x500 with 1 Axes>"
      ]
     },
     "metadata": {},
     "output_type": "display_data"
    },
    {
     "data": {
      "image/png": "[encoded data removed]",
      "text/plain": [
       "<Figure size 500x500 with 1 Axes>"
      ]
     },
     "metadata": {},
     "output_type": "display_data"
    }
   ],
   "source": [
    "# Let us understand the distribution of each attributes (product_id, movie_id, rating, rate)\n",
    "\n",
    "# Distribution of Product\n",
    "sn.displot(data=df, x=\"product_id\", kind=\"hist\", aspect=1)\n",
    "\n",
    "#Distribution of User\n",
    "sn.displot(data=df, x=\"user_id\", kind=\"hist\", aspect=1)\n",
    "\n",
    "# Distribution of rating\n",
    "sn.displot(data=df, x=\"rating\", kind=\"hist\", aspect=1)\n",
    "\n",
    "# Distribution of Rate\n",
    "sn.displot(data=df, x=\"Rate\", kind=\"hist\", aspect=1)\n",
    "\n"
   ]
  },
  {
   "cell_type": "code",
   "execution_count": 9,
   "id": "984d5e22",
   "metadata": {},
   "outputs": [
    {
     "name": "stderr",
     "output_type": "stream",
     "text": [
      "C:\\Users\\91638\\AppData\\Local\\Temp\\ipykernel_14404\\409049504.py:4: FutureWarning: The default value of numeric_only in DataFrame.corr is deprecated. In a future version, it will default to False. Select only valid columns or specify the value of numeric_only to silence this warning.\n",
      "  corrMatrix = df.corr()\n"
     ]
    },
    {
     "data": {
      "text/plain": [
       "<AxesSubplot: >"
      ]
     },
     "execution_count": 9,
     "metadata": {},
     "output_type": "execute_result"
    },
    {
     "data": {
      "image/png": "[encoded data removed]",
      "text/plain": [
       "<Figure size 640x480 with 2 Axes>"
      ]
     },
     "metadata": {},
     "output_type": "display_data"
    }
   ],
   "source": [
    "# Checking for correlation\n",
    "import seaborn as sn\n",
    "# Creating a correlation matrix from the data frame\n",
    "corrMatrix = df.corr()\n",
    "\n",
    "# Plotting using heatmap\n",
    "sn.heatmap(corrMatrix, annot = True, cmap= 'coolwarm')"
   ]
  },
  {
   "cell_type": "code",
   "execution_count": 10,
   "id": "e64be7a5",
   "metadata": {},
   "outputs": [
    {
     "data": {
      "text/plain": [
       "(9739, 8)"
      ]
     },
     "execution_count": 10,
     "metadata": {},
     "output_type": "execute_result"
    }
   ],
   "source": [
    "# removing duplicates\n",
    "new_df = df.drop_duplicates(['user_id']) \n",
    "new_df.shape"
   ]
  },
  {
   "cell_type": "code",
   "execution_count": 11,
   "id": "263987bc",
   "metadata": {},
   "outputs": [
    {
     "data": {
      "text/html": [
       "<div>\n",
       "<style scoped>\n",
       "    .dataframe tbody tr th:only-of-type {\n",
       "        vertical-align: middle;\n",
       "    }\n",
       "\n",
       "    .dataframe tbody tr th {\n",
       "        vertical-align: top;\n",
       "    }\n",
       "\n",
       "    .dataframe thead th {\n",
       "        text-align: right;\n",
       "    }\n",
       "</style>\n",
       "<table border=\"1\" class=\"dataframe\">\n",
       "  <thead>\n",
       "    <tr style=\"text-align: right;\">\n",
       "      <th></th>\n",
       "      <th>Unnamed: 0</th>\n",
       "      <th>product_id</th>\n",
       "      <th>product name</th>\n",
       "      <th>sale_price</th>\n",
       "      <th>market_price</th>\n",
       "      <th>user_id</th>\n",
       "      <th>rating</th>\n",
       "      <th>Rate</th>\n",
       "    </tr>\n",
       "  </thead>\n",
       "  <tbody>\n",
       "    <tr>\n",
       "      <th>0</th>\n",
       "      <td>0</td>\n",
       "      <td>100001</td>\n",
       "      <td>Garlic Oil - Vegetarian Capsule 500 mg</td>\n",
       "      <td>220.0</td>\n",
       "      <td>220.0</td>\n",
       "      <td>2</td>\n",
       "      <td>4.1</td>\n",
       "      <td>4</td>\n",
       "    </tr>\n",
       "    <tr>\n",
       "      <th>1</th>\n",
       "      <td>1</td>\n",
       "      <td>100002</td>\n",
       "      <td>Water Bottle - Orange</td>\n",
       "      <td>180.0</td>\n",
       "      <td>180.0</td>\n",
       "      <td>8</td>\n",
       "      <td>2.3</td>\n",
       "      <td>2</td>\n",
       "    </tr>\n",
       "    <tr>\n",
       "      <th>2</th>\n",
       "      <td>2</td>\n",
       "      <td>100003</td>\n",
       "      <td>Brass Angle Deep - Plain, No.2</td>\n",
       "      <td>119.0</td>\n",
       "      <td>250.0</td>\n",
       "      <td>11400</td>\n",
       "      <td>3.4</td>\n",
       "      <td>3</td>\n",
       "    </tr>\n",
       "    <tr>\n",
       "      <th>3</th>\n",
       "      <td>3</td>\n",
       "      <td>100004</td>\n",
       "      <td>Cereal Flip Lid Container/Storage Jar - Assort...</td>\n",
       "      <td>149.0</td>\n",
       "      <td>176.0</td>\n",
       "      <td>11676</td>\n",
       "      <td>3.7</td>\n",
       "      <td>4</td>\n",
       "    </tr>\n",
       "    <tr>\n",
       "      <th>4</th>\n",
       "      <td>4</td>\n",
       "      <td>100005</td>\n",
       "      <td>Creme Soft Soap - For Hands &amp; Body</td>\n",
       "      <td>162.0</td>\n",
       "      <td>162.0</td>\n",
       "      <td>41385</td>\n",
       "      <td>4.4</td>\n",
       "      <td>4</td>\n",
       "    </tr>\n",
       "  </tbody>\n",
       "</table>\n",
       "</div>"
      ],
      "text/plain": [
       "   Unnamed: 0  product_id                                       product name  \\\n",
       "0           0      100001             Garlic Oil - Vegetarian Capsule 500 mg   \n",
       "1           1      100002                              Water Bottle - Orange   \n",
       "2           2      100003                     Brass Angle Deep - Plain, No.2   \n",
       "3           3      100004  Cereal Flip Lid Container/Storage Jar - Assort...   \n",
       "4           4      100005                 Creme Soft Soap - For Hands & Body   \n",
       "\n",
       "   sale_price  market_price  user_id  rating  Rate  \n",
       "0       220.0         220.0        2     4.1     4  \n",
       "1       180.0         180.0        8     2.3     2  \n",
       "2       119.0         250.0    11400     3.4     3  \n",
       "3       149.0         176.0    11676     3.7     4  \n",
       "4       162.0         162.0    41385     4.4     4  "
      ]
     },
     "execution_count": 11,
     "metadata": {},
     "output_type": "execute_result"
    }
   ],
   "source": [
    "new_df.head()"
   ]
  },
  {
   "cell_type": "code",
   "execution_count": 12,
   "id": "72c65af0",
   "metadata": {},
   "outputs": [],
   "source": [
    "#importing package for train and split\n",
    "from sklearn.model_selection import train_test_split\n",
    "train_data, test_data = train_test_split(new_df, test_size=0.2, random_state=0)\n",
    "\n"
   ]
  },
  {
   "cell_type": "code",
   "execution_count": 13,
   "id": "43297616",
   "metadata": {},
   "outputs": [
    {
     "data": {
      "text/html": [
       "<div>\n",
       "<style scoped>\n",
       "    .dataframe tbody tr th:only-of-type {\n",
       "        vertical-align: middle;\n",
       "    }\n",
       "\n",
       "    .dataframe tbody tr th {\n",
       "        vertical-align: top;\n",
       "    }\n",
       "\n",
       "    .dataframe thead th {\n",
       "        text-align: right;\n",
       "    }\n",
       "</style>\n",
       "<table border=\"1\" class=\"dataframe\">\n",
       "  <thead>\n",
       "    <tr style=\"text-align: right;\">\n",
       "      <th></th>\n",
       "      <th>Unnamed: 0</th>\n",
       "      <th>product_id</th>\n",
       "      <th>product name</th>\n",
       "      <th>sale_price</th>\n",
       "      <th>market_price</th>\n",
       "      <th>user_id</th>\n",
       "      <th>rating</th>\n",
       "      <th>Rate</th>\n",
       "    </tr>\n",
       "  </thead>\n",
       "  <tbody>\n",
       "    <tr>\n",
       "      <th>11292</th>\n",
       "      <td>16568</td>\n",
       "      <td>116569</td>\n",
       "      <td>Chunky Shawarma Chicken</td>\n",
       "      <td>39.0</td>\n",
       "      <td>39.0</td>\n",
       "      <td>123132</td>\n",
       "      <td>4.3</td>\n",
       "      <td>4</td>\n",
       "    </tr>\n",
       "    <tr>\n",
       "      <th>7928</th>\n",
       "      <td>11619</td>\n",
       "      <td>111620</td>\n",
       "      <td>Jam - Strawberry, Preserve</td>\n",
       "      <td>280.0</td>\n",
       "      <td>280.0</td>\n",
       "      <td>216211</td>\n",
       "      <td>4.4</td>\n",
       "      <td>4</td>\n",
       "    </tr>\n",
       "    <tr>\n",
       "      <th>1610</th>\n",
       "      <td>2379</td>\n",
       "      <td>102380</td>\n",
       "      <td>Power Toothbrush For Kids - Yellow</td>\n",
       "      <td>590.0</td>\n",
       "      <td>590.0</td>\n",
       "      <td>181995</td>\n",
       "      <td>1.0</td>\n",
       "      <td>1</td>\n",
       "    </tr>\n",
       "    <tr>\n",
       "      <th>9995</th>\n",
       "      <td>14626</td>\n",
       "      <td>114627</td>\n",
       "      <td>Sauce - Pesto, Classic</td>\n",
       "      <td>290.0</td>\n",
       "      <td>290.0</td>\n",
       "      <td>157805</td>\n",
       "      <td>5.0</td>\n",
       "      <td>5</td>\n",
       "    </tr>\n",
       "    <tr>\n",
       "      <th>12545</th>\n",
       "      <td>18360</td>\n",
       "      <td>118361</td>\n",
       "      <td>Tissue - Napkins ECO 50 Pulls</td>\n",
       "      <td>28.5</td>\n",
       "      <td>30.0</td>\n",
       "      <td>37605</td>\n",
       "      <td>4.2</td>\n",
       "      <td>4</td>\n",
       "    </tr>\n",
       "  </tbody>\n",
       "</table>\n",
       "</div>"
      ],
      "text/plain": [
       "       Unnamed: 0  product_id                        product name  sale_price  \\\n",
       "11292       16568      116569             Chunky Shawarma Chicken        39.0   \n",
       "7928        11619      111620          Jam - Strawberry, Preserve       280.0   \n",
       "1610         2379      102380  Power Toothbrush For Kids - Yellow       590.0   \n",
       "9995        14626      114627              Sauce - Pesto, Classic       290.0   \n",
       "12545       18360      118361       Tissue - Napkins ECO 50 Pulls        28.5   \n",
       "\n",
       "       market_price  user_id  rating  Rate  \n",
       "11292          39.0   123132     4.3     4  \n",
       "7928          280.0   216211     4.4     4  \n",
       "1610          590.0   181995     1.0     1  \n",
       "9995          290.0   157805     5.0     5  \n",
       "12545          30.0    37605     4.2     4  "
      ]
     },
     "execution_count": 13,
     "metadata": {},
     "output_type": "execute_result"
    }
   ],
   "source": [
    "train_data.head()"
   ]
  },
  {
   "cell_type": "code",
   "execution_count": 14,
   "id": "626c7825",
   "metadata": {},
   "outputs": [
    {
     "data": {
      "text/plain": [
       "(7791, 8)"
      ]
     },
     "execution_count": 14,
     "metadata": {},
     "output_type": "execute_result"
    }
   ],
   "source": [
    "train_data.shape"
   ]
  },
  {
   "cell_type": "code",
   "execution_count": 15,
   "id": "6eb9659a",
   "metadata": {},
   "outputs": [
    {
     "data": {
      "text/plain": [
       "(1948, 8)"
      ]
     },
     "execution_count": 15,
     "metadata": {},
     "output_type": "execute_result"
    }
   ],
   "source": [
    "test_data.shape"
   ]
  },
  {
   "cell_type": "code",
   "execution_count": 16,
   "id": "431ea0e0",
   "metadata": {},
   "outputs": [
    {
     "data": {
      "text/html": [
       "<div>\n",
       "<style scoped>\n",
       "    .dataframe tbody tr th:only-of-type {\n",
       "        vertical-align: middle;\n",
       "    }\n",
       "\n",
       "    .dataframe tbody tr th {\n",
       "        vertical-align: top;\n",
       "    }\n",
       "\n",
       "    .dataframe thead th {\n",
       "        text-align: right;\n",
       "    }\n",
       "</style>\n",
       "<table border=\"1\" class=\"dataframe\">\n",
       "  <thead>\n",
       "    <tr style=\"text-align: right;\">\n",
       "      <th></th>\n",
       "      <th>Unnamed: 0</th>\n",
       "      <th>product_id</th>\n",
       "      <th>product name</th>\n",
       "      <th>sale_price</th>\n",
       "      <th>market_price</th>\n",
       "      <th>user_id</th>\n",
       "      <th>rating</th>\n",
       "      <th>Rate</th>\n",
       "    </tr>\n",
       "  </thead>\n",
       "  <tbody>\n",
       "    <tr>\n",
       "      <th>289</th>\n",
       "      <td>413</td>\n",
       "      <td>100414</td>\n",
       "      <td>Plastic Insulated Jr Casserole For Roti/Chapat...</td>\n",
       "      <td>739.00</td>\n",
       "      <td>910.0</td>\n",
       "      <td>210717</td>\n",
       "      <td>3.5</td>\n",
       "      <td>4</td>\n",
       "    </tr>\n",
       "    <tr>\n",
       "      <th>17895</th>\n",
       "      <td>26189</td>\n",
       "      <td>126190</td>\n",
       "      <td>Disposable Maternity &amp; Nursing Breast Pads For...</td>\n",
       "      <td>155.22</td>\n",
       "      <td>199.0</td>\n",
       "      <td>56760</td>\n",
       "      <td>5.0</td>\n",
       "      <td>5</td>\n",
       "    </tr>\n",
       "    <tr>\n",
       "      <th>3501</th>\n",
       "      <td>5141</td>\n",
       "      <td>105142</td>\n",
       "      <td>Monaco</td>\n",
       "      <td>180.00</td>\n",
       "      <td>180.0</td>\n",
       "      <td>26711</td>\n",
       "      <td>4.1</td>\n",
       "      <td>4</td>\n",
       "    </tr>\n",
       "    <tr>\n",
       "      <th>5190</th>\n",
       "      <td>7580</td>\n",
       "      <td>107581</td>\n",
       "      <td>Popped Potato Chips - Simply Salt</td>\n",
       "      <td>40.00</td>\n",
       "      <td>40.0</td>\n",
       "      <td>163683</td>\n",
       "      <td>4.3</td>\n",
       "      <td>4</td>\n",
       "    </tr>\n",
       "    <tr>\n",
       "      <th>15330</th>\n",
       "      <td>22452</td>\n",
       "      <td>122453</td>\n",
       "      <td>Pepper &amp; Herb Chicken Sausages</td>\n",
       "      <td>140.00</td>\n",
       "      <td>150.0</td>\n",
       "      <td>109748</td>\n",
       "      <td>4.0</td>\n",
       "      <td>4</td>\n",
       "    </tr>\n",
       "  </tbody>\n",
       "</table>\n",
       "</div>"
      ],
      "text/plain": [
       "       Unnamed: 0  product_id  \\\n",
       "289           413      100414   \n",
       "17895       26189      126190   \n",
       "3501         5141      105142   \n",
       "5190         7580      107581   \n",
       "15330       22452      122453   \n",
       "\n",
       "                                            product name  sale_price  \\\n",
       "289    Plastic Insulated Jr Casserole For Roti/Chapat...      739.00   \n",
       "17895  Disposable Maternity & Nursing Breast Pads For...      155.22   \n",
       "3501                                              Monaco      180.00   \n",
       "5190                   Popped Potato Chips - Simply Salt       40.00   \n",
       "15330                     Pepper & Herb Chicken Sausages      140.00   \n",
       "\n",
       "       market_price  user_id  rating  Rate  \n",
       "289           910.0   210717     3.5     4  \n",
       "17895         199.0    56760     5.0     5  \n",
       "3501          180.0    26711     4.1     4  \n",
       "5190           40.0   163683     4.3     4  \n",
       "15330         150.0   109748     4.0     4  "
      ]
     },
     "execution_count": 16,
     "metadata": {},
     "output_type": "execute_result"
    }
   ],
   "source": [
    "test_data .head()"
   ]
  },
  {
   "cell_type": "markdown",
   "id": "d0c07c9c",
   "metadata": {},
   "source": [
    "###  Training the Data"
   ]
  },
  {
   "cell_type": "code",
   "execution_count": 17,
   "id": "f743e7fe",
   "metadata": {},
   "outputs": [],
   "source": [
    "# pivot the training data to create a user-item matrix\n",
    "train_matrix = train_data.pivot(index='user_id', columns='product_id', values='Rate')\n",
    "\n",
    "# fill missing values with 0\n",
    "train_matrix.fillna(0, inplace=True)\n",
    "\n",
    "# apply SVD to the training matrix\n",
    "n_components = 10\n",
    "svd = TruncatedSVD(n_components=n_components, random_state=42)\n",
    "train_svd = svd.fit_transform(train_matrix)\n"
   ]
  },
  {
   "cell_type": "markdown",
   "id": "4c4003aa",
   "metadata": {},
   "source": [
    "### Testing the Data"
   ]
  },
  {
   "cell_type": "code",
   "execution_count": 18,
   "id": "572cfe1a",
   "metadata": {},
   "outputs": [],
   "source": [
    "# predict the ratings for the test data\n",
    "test_matrix = test_data.pivot(index='user_id', columns='product_id', values='Rate')\n",
    "test_matrix.fillna(0, inplace=True)\n",
    "test_svd = svd.fit_transform(test_matrix)\n",
    "test_preds = svd.inverse_transform(test_svd)"
   ]
  },
  {
   "cell_type": "markdown",
   "id": "e23e0d6d",
   "metadata": {},
   "source": [
    "### Accuracy"
   ]
  },
  {
   "cell_type": "code",
   "execution_count": 19,
   "id": "a9d81246",
   "metadata": {},
   "outputs": [
    {
     "name": "stdout",
     "output_type": "stream",
     "text": [
      "Mean absolute error: 0.0035640008964214686\n",
      "Mean squared error: 0.008188866822487765\n",
      "Root mean squared error: 0.09049235781262285\n",
      "0.0046073953602771165\n"
     ]
    }
   ],
   "source": [
    "from sklearn.metrics import mean_absolute_error, mean_squared_error, r2_score\n",
    "import numpy as np\n",
    "# Calculate and print mean absolute error\n",
    "mae = mean_absolute_error(test_matrix, test_preds)\n",
    "print(\"Mean absolute error:\", mae)\n",
    "\n",
    "# Calculate and print mean squared error\n",
    "mse = mean_squared_error(test_matrix, test_preds)\n",
    "print(\"Mean squared error:\", mse)\n",
    "\n",
    "# Calculate and print root mean squared error\n",
    "rmse = np.sqrt(mse)\n",
    "print(\"Root mean squared error:\", rmse)\n",
    "\n",
    "# Calculate and print coefficient of determination (R^2)\n",
    "r2=r2_score(test_matrix, test_preds)\n",
    "print(r2)"
   ]
  },
  {
   "cell_type": "code",
   "execution_count": 20,
   "id": "7ee40c6f",
   "metadata": {},
   "outputs": [],
   "source": [
    "# from sklearn.metrics import accuracy_score\n",
    "\n",
    "# # Calculate the accuracy of the model\n",
    "# accuracy = accuracy_score(test_matrix, test_preds)\n",
    "# print(\"Logistic Regression Accuracy:\",accuracy)"
   ]
  },
  {
   "cell_type": "code",
   "execution_count": null,
   "id": "29273b83",
   "metadata": {},
   "outputs": [],
   "source": []
  },
  {
   "cell_type": "code",
   "execution_count": 21,
   "id": "797d0ee7",
   "metadata": {},
   "outputs": [
    {
     "name": "stdout",
     "output_type": "stream",
     "text": [
      "RMSE: 0.09049235781262285\n"
     ]
    }
   ],
   "source": [
    "# evaluate the model using mean squared error\n",
    "mse = mean_squared_error(test_matrix, test_preds)\n",
    "rmse = np.sqrt(mse)\n",
    "print('RMSE:', rmse)"
   ]
  },
  {
   "cell_type": "code",
   "execution_count": null,
   "id": "4d592d8e",
   "metadata": {},
   "outputs": [],
   "source": []
  },
  {
   "cell_type": "markdown",
   "id": "981c426f",
   "metadata": {},
   "source": [
    "### Building a Utility Matrix (User-Product Matrix)\n",
    "\n",
    "#### This matrix contains each user, each product, and the rating each user gave to each product. Notice this matrix will be sparse because every user doesn't review every product."
   ]
  },
  {
   "cell_type": "code",
   "execution_count": 22,
   "id": "981d9cb5",
   "metadata": {},
   "outputs": [],
   "source": [
    "product_mat = new_df.pivot(index='user_id', columns='product name', values='Rate').fillna(0)"
   ]
  },
  {
   "cell_type": "code",
   "execution_count": 23,
   "id": "68778852",
   "metadata": {},
   "outputs": [
    {
     "data": {
      "text/plain": [
       "(9739, 8)"
      ]
     },
     "execution_count": 23,
     "metadata": {},
     "output_type": "execute_result"
    }
   ],
   "source": [
    "new_df.shape"
   ]
  },
  {
   "cell_type": "code",
   "execution_count": 24,
   "id": "fce292e8",
   "metadata": {},
   "outputs": [
    {
     "data": {
      "text/html": [
       "<div>\n",
       "<style scoped>\n",
       "    .dataframe tbody tr th:only-of-type {\n",
       "        vertical-align: middle;\n",
       "    }\n",
       "\n",
       "    .dataframe tbody tr th {\n",
       "        vertical-align: top;\n",
       "    }\n",
       "\n",
       "    .dataframe thead th {\n",
       "        text-align: right;\n",
       "    }\n",
       "</style>\n",
       "<table border=\"1\" class=\"dataframe\">\n",
       "  <thead>\n",
       "    <tr style=\"text-align: right;\">\n",
       "      <th>product name</th>\n",
       "      <th>&amp; Moms - Citrus Soap</th>\n",
       "      <th>&amp; Moms Bathing Soap - Jasmine</th>\n",
       "      <th>&amp; Moms Bathing Soap - Tulsi</th>\n",
       "      <th>1 To 1  Baking Flour - Gluten Free</th>\n",
       "      <th>1-2-3 Noodles - Chicken Flavour</th>\n",
       "      <th>100 % Mixed Fruit Juice</th>\n",
       "      <th>100 % Pure Honey - Cinnamon</th>\n",
       "      <th>100 % Pure Honey - Litchi</th>\n",
       "      <th>100 % Pure Organic Honey - Ginger</th>\n",
       "      <th>100% Compostable &amp; Bio-Degradable Garbage Bags - Medium, 19X21</th>\n",
       "      <th>...</th>\n",
       "      <th>ZigZag Neem Soft Bristle Toothbrush</th>\n",
       "      <th>Zing Milk Mug - MW Z363</th>\n",
       "      <th>Zing Milk Mug - Z389</th>\n",
       "      <th>Zing Small Milk Mug - Z401</th>\n",
       "      <th>Zipper Bathroom Air Freshener - Joyful Lavender</th>\n",
       "      <th>Zipper Blissful Citrus</th>\n",
       "      <th>Zoom Ultimate Dark Triangle Pencils</th>\n",
       "      <th>aer Home Air Freshener Spray - Fresh Lush Green</th>\n",
       "      <th>nuts almonds</th>\n",
       "      <th>oriental-Instant Noodles - Tomato Flavour</th>\n",
       "    </tr>\n",
       "    <tr>\n",
       "      <th>user_id</th>\n",
       "      <th></th>\n",
       "      <th></th>\n",
       "      <th></th>\n",
       "      <th></th>\n",
       "      <th></th>\n",
       "      <th></th>\n",
       "      <th></th>\n",
       "      <th></th>\n",
       "      <th></th>\n",
       "      <th></th>\n",
       "      <th></th>\n",
       "      <th></th>\n",
       "      <th></th>\n",
       "      <th></th>\n",
       "      <th></th>\n",
       "      <th></th>\n",
       "      <th></th>\n",
       "      <th></th>\n",
       "      <th></th>\n",
       "      <th></th>\n",
       "      <th></th>\n",
       "    </tr>\n",
       "  </thead>\n",
       "  <tbody>\n",
       "    <tr>\n",
       "      <th>2</th>\n",
       "      <td>0.0</td>\n",
       "      <td>0.0</td>\n",
       "      <td>0.0</td>\n",
       "      <td>0.0</td>\n",
       "      <td>0.0</td>\n",
       "      <td>0.0</td>\n",
       "      <td>0.0</td>\n",
       "      <td>0.0</td>\n",
       "      <td>0.0</td>\n",
       "      <td>0.0</td>\n",
       "      <td>...</td>\n",
       "      <td>0.0</td>\n",
       "      <td>0.0</td>\n",
       "      <td>0.0</td>\n",
       "      <td>0.0</td>\n",
       "      <td>0.0</td>\n",
       "      <td>0.0</td>\n",
       "      <td>0.0</td>\n",
       "      <td>0.0</td>\n",
       "      <td>0.0</td>\n",
       "      <td>0.0</td>\n",
       "    </tr>\n",
       "    <tr>\n",
       "      <th>8</th>\n",
       "      <td>0.0</td>\n",
       "      <td>0.0</td>\n",
       "      <td>0.0</td>\n",
       "      <td>0.0</td>\n",
       "      <td>0.0</td>\n",
       "      <td>0.0</td>\n",
       "      <td>0.0</td>\n",
       "      <td>0.0</td>\n",
       "      <td>0.0</td>\n",
       "      <td>0.0</td>\n",
       "      <td>...</td>\n",
       "      <td>0.0</td>\n",
       "      <td>0.0</td>\n",
       "      <td>0.0</td>\n",
       "      <td>0.0</td>\n",
       "      <td>0.0</td>\n",
       "      <td>0.0</td>\n",
       "      <td>0.0</td>\n",
       "      <td>0.0</td>\n",
       "      <td>0.0</td>\n",
       "      <td>0.0</td>\n",
       "    </tr>\n",
       "    <tr>\n",
       "      <th>9</th>\n",
       "      <td>0.0</td>\n",
       "      <td>0.0</td>\n",
       "      <td>0.0</td>\n",
       "      <td>0.0</td>\n",
       "      <td>0.0</td>\n",
       "      <td>0.0</td>\n",
       "      <td>0.0</td>\n",
       "      <td>0.0</td>\n",
       "      <td>0.0</td>\n",
       "      <td>0.0</td>\n",
       "      <td>...</td>\n",
       "      <td>0.0</td>\n",
       "      <td>0.0</td>\n",
       "      <td>0.0</td>\n",
       "      <td>0.0</td>\n",
       "      <td>0.0</td>\n",
       "      <td>0.0</td>\n",
       "      <td>0.0</td>\n",
       "      <td>0.0</td>\n",
       "      <td>0.0</td>\n",
       "      <td>0.0</td>\n",
       "    </tr>\n",
       "    <tr>\n",
       "      <th>12</th>\n",
       "      <td>0.0</td>\n",
       "      <td>0.0</td>\n",
       "      <td>0.0</td>\n",
       "      <td>0.0</td>\n",
       "      <td>0.0</td>\n",
       "      <td>0.0</td>\n",
       "      <td>0.0</td>\n",
       "      <td>0.0</td>\n",
       "      <td>0.0</td>\n",
       "      <td>0.0</td>\n",
       "      <td>...</td>\n",
       "      <td>0.0</td>\n",
       "      <td>0.0</td>\n",
       "      <td>0.0</td>\n",
       "      <td>0.0</td>\n",
       "      <td>0.0</td>\n",
       "      <td>0.0</td>\n",
       "      <td>0.0</td>\n",
       "      <td>0.0</td>\n",
       "      <td>0.0</td>\n",
       "      <td>0.0</td>\n",
       "    </tr>\n",
       "    <tr>\n",
       "      <th>14</th>\n",
       "      <td>0.0</td>\n",
       "      <td>0.0</td>\n",
       "      <td>0.0</td>\n",
       "      <td>0.0</td>\n",
       "      <td>0.0</td>\n",
       "      <td>0.0</td>\n",
       "      <td>0.0</td>\n",
       "      <td>0.0</td>\n",
       "      <td>0.0</td>\n",
       "      <td>0.0</td>\n",
       "      <td>...</td>\n",
       "      <td>0.0</td>\n",
       "      <td>0.0</td>\n",
       "      <td>0.0</td>\n",
       "      <td>0.0</td>\n",
       "      <td>0.0</td>\n",
       "      <td>0.0</td>\n",
       "      <td>0.0</td>\n",
       "      <td>0.0</td>\n",
       "      <td>0.0</td>\n",
       "      <td>0.0</td>\n",
       "    </tr>\n",
       "  </tbody>\n",
       "</table>\n",
       "<p>5 rows × 8908 columns</p>\n",
       "</div>"
      ],
      "text/plain": [
       "product name  & Moms - Citrus Soap  & Moms Bathing Soap - Jasmine  \\\n",
       "user_id                                                             \n",
       "2                              0.0                            0.0   \n",
       "8                              0.0                            0.0   \n",
       "9                              0.0                            0.0   \n",
       "12                             0.0                            0.0   \n",
       "14                             0.0                            0.0   \n",
       "\n",
       "product name  & Moms Bathing Soap - Tulsi  1 To 1  Baking Flour - Gluten Free  \\\n",
       "user_id                                                                         \n",
       "2                                     0.0                                 0.0   \n",
       "8                                     0.0                                 0.0   \n",
       "9                                     0.0                                 0.0   \n",
       "12                                    0.0                                 0.0   \n",
       "14                                    0.0                                 0.0   \n",
       "\n",
       "product name  1-2-3 Noodles - Chicken Flavour  100 % Mixed Fruit Juice  \\\n",
       "user_id                                                                  \n",
       "2                                         0.0                      0.0   \n",
       "8                                         0.0                      0.0   \n",
       "9                                         0.0                      0.0   \n",
       "12                                        0.0                      0.0   \n",
       "14                                        0.0                      0.0   \n",
       "\n",
       "product name  100 % Pure Honey - Cinnamon  100 % Pure Honey - Litchi  \\\n",
       "user_id                                                                \n",
       "2                                     0.0                        0.0   \n",
       "8                                     0.0                        0.0   \n",
       "9                                     0.0                        0.0   \n",
       "12                                    0.0                        0.0   \n",
       "14                                    0.0                        0.0   \n",
       "\n",
       "product name  100 % Pure Organic Honey - Ginger  \\\n",
       "user_id                                           \n",
       "2                                           0.0   \n",
       "8                                           0.0   \n",
       "9                                           0.0   \n",
       "12                                          0.0   \n",
       "14                                          0.0   \n",
       "\n",
       "product name  100% Compostable & Bio-Degradable Garbage Bags - Medium, 19X21  \\\n",
       "user_id                                                                        \n",
       "2                                                           0.0                \n",
       "8                                                           0.0                \n",
       "9                                                           0.0                \n",
       "12                                                          0.0                \n",
       "14                                                          0.0                \n",
       "\n",
       "product name  ...  ZigZag Neem Soft Bristle Toothbrush  \\\n",
       "user_id       ...                                        \n",
       "2             ...                                  0.0   \n",
       "8             ...                                  0.0   \n",
       "9             ...                                  0.0   \n",
       "12            ...                                  0.0   \n",
       "14            ...                                  0.0   \n",
       "\n",
       "product name  Zing Milk Mug - MW Z363  Zing Milk Mug - Z389  \\\n",
       "user_id                                                       \n",
       "2                                 0.0                   0.0   \n",
       "8                                 0.0                   0.0   \n",
       "9                                 0.0                   0.0   \n",
       "12                                0.0                   0.0   \n",
       "14                                0.0                   0.0   \n",
       "\n",
       "product name  Zing Small Milk Mug - Z401  \\\n",
       "user_id                                    \n",
       "2                                    0.0   \n",
       "8                                    0.0   \n",
       "9                                    0.0   \n",
       "12                                   0.0   \n",
       "14                                   0.0   \n",
       "\n",
       "product name  Zipper Bathroom Air Freshener - Joyful Lavender  \\\n",
       "user_id                                                         \n",
       "2                                                         0.0   \n",
       "8                                                         0.0   \n",
       "9                                                         0.0   \n",
       "12                                                        0.0   \n",
       "14                                                        0.0   \n",
       "\n",
       "product name  Zipper Blissful Citrus  Zoom Ultimate Dark Triangle Pencils  \\\n",
       "user_id                                                                     \n",
       "2                                0.0                                  0.0   \n",
       "8                                0.0                                  0.0   \n",
       "9                                0.0                                  0.0   \n",
       "12                               0.0                                  0.0   \n",
       "14                               0.0                                  0.0   \n",
       "\n",
       "product name  aer Home Air Freshener Spray - Fresh Lush Green  nuts almonds  \\\n",
       "user_id                                                                       \n",
       "2                                                         0.0           0.0   \n",
       "8                                                         0.0           0.0   \n",
       "9                                                         0.0           0.0   \n",
       "12                                                        0.0           0.0   \n",
       "14                                                        0.0           0.0   \n",
       "\n",
       "product name  oriental-Instant Noodles - Tomato Flavour  \n",
       "user_id                                                  \n",
       "2                                                   0.0  \n",
       "8                                                   0.0  \n",
       "9                                                   0.0  \n",
       "12                                                  0.0  \n",
       "14                                                  0.0  \n",
       "\n",
       "[5 rows x 8908 columns]"
      ]
     },
     "execution_count": 24,
     "metadata": {},
     "output_type": "execute_result"
    }
   ],
   "source": [
    "product_mat.head()"
   ]
  },
  {
   "cell_type": "code",
   "execution_count": 25,
   "id": "f7067a36",
   "metadata": {},
   "outputs": [
    {
     "data": {
      "text/plain": [
       "(9739, 8908)"
      ]
     },
     "execution_count": 25,
     "metadata": {},
     "output_type": "execute_result"
    }
   ],
   "source": [
    "product_mat.shape"
   ]
  },
  {
   "cell_type": "markdown",
   "id": "54098d18",
   "metadata": {},
   "source": [
    "### Transposing the Matrix\n",
    "\n",
    "#### After transpose the matrix, users are represented by columns, and products are represented by rows."
   ]
  },
  {
   "cell_type": "code",
   "execution_count": 26,
   "id": "63062fb0",
   "metadata": {},
   "outputs": [
    {
     "data": {
      "text/plain": [
       "(8908, 9739)"
      ]
     },
     "execution_count": 26,
     "metadata": {},
     "output_type": "execute_result"
    }
   ],
   "source": [
    "x = product_mat.values.T\n",
    "x.shape"
   ]
  },
  {
   "cell_type": "markdown",
   "id": "ab9dfa51",
   "metadata": {},
   "source": [
    "### Decomposing the Matrix\n",
    "#### Now we use TruncatedSVD from sklearn to compress the transposed matrix into down to a number of rows by 12 matrices. All of the Product are in the rows. But the users will be compressed down to 12 components arbitrarily that represent a generalized view of users' ID."
   ]
  },
  {
   "cell_type": "code",
   "execution_count": 27,
   "id": "c34ae433",
   "metadata": {},
   "outputs": [
    {
     "data": {
      "text/plain": [
       "(8908, 12)"
      ]
     },
     "execution_count": 27,
     "metadata": {},
     "output_type": "execute_result"
    }
   ],
   "source": [
    "\n",
    "\n",
    "SVD = TruncatedSVD(n_components=12, random_state=17)\n",
    "matrix = SVD.fit_transform(x)\n",
    "matrix.shape"
   ]
  },
  {
   "cell_type": "markdown",
   "id": "e5f80d09",
   "metadata": {},
   "source": [
    "###  Generating a Correlation Matrix\n",
    "#### We calculated PearsonR coefficient for every product pair in the matrix. The correlation-based on similarities between users' preferences."
   ]
  },
  {
   "cell_type": "code",
   "execution_count": 28,
   "id": "9727ffab",
   "metadata": {},
   "outputs": [
    {
     "data": {
      "text/plain": [
       "(8908, 8908)"
      ]
     },
     "execution_count": 28,
     "metadata": {},
     "output_type": "execute_result"
    }
   ],
   "source": [
    "import warnings\n",
    "warnings.filterwarnings(\"ignore\",category =RuntimeWarning)\n",
    "corr = np.corrcoef(matrix)\n",
    "corr.shape"
   ]
  },
  {
   "cell_type": "code",
   "execution_count": null,
   "id": "17eb7650",
   "metadata": {},
   "outputs": [],
   "source": []
  },
  {
   "cell_type": "code",
   "execution_count": 32,
   "id": "76665a2f",
   "metadata": {},
   "outputs": [
    {
     "name": "stdout",
     "output_type": "stream",
     "text": [
      "560\n"
     ]
    }
   ],
   "source": [
    "product_id = product_mat.columns\n",
    "product_list = list(product_id)\n",
    "coffey_hands = product_list.index(\"Assorted Choco Treats\")\n",
    "print(coffey_hands)"
   ]
  },
  {
   "cell_type": "code",
   "execution_count": 33,
   "id": "92b3e657",
   "metadata": {},
   "outputs": [
    {
     "data": {
      "text/plain": [
       "['Aluminium Tope - Induction Base',\n",
       " 'Cashews With Multimillets',\n",
       " 'Chunky Chat',\n",
       " 'Coffee - Blended Beans, Espresso Bold Roasted',\n",
       " 'Evo - 3 Pin Universal Multi-travel Plug\\xa01071',\n",
       " 'Frozen Chilli Garlic Nuggets',\n",
       " 'Mach 3 Shaving Razor Holder + 2 Shaving Blade/Cartridge',\n",
       " 'Milk Cookies',\n",
       " 'Premium Kulfi Maker With Candy Cone - Pink',\n",
       " 'Roasted Sunflower Kernels',\n",
       " 'Sephra Fruit Center Filled Choco Assortments.',\n",
       " 'Stainless Steel Ice Bucket - Double Wall, Orbit',\n",
       " 'Tablet - Organic, Bacopa, 750 mg, USDA Certified',\n",
       " 'Thyme']"
      ]
     },
     "execution_count": 33,
     "metadata": {},
     "output_type": "execute_result"
    }
   ],
   "source": [
    "corr_coffey_hands  = corr[coffey_hands]\n",
    "list(product_id[(corr_coffey_hands< 1.0) & (corr_coffey_hands > 0.9)])"
   ]
  },
  {
   "cell_type": "code",
   "execution_count": null,
   "id": "f6da21c6",
   "metadata": {},
   "outputs": [],
   "source": []
  }
 ],
 "metadata": {
  "kernelspec": {
   "display_name": "Python 3 (ipykernel)",
   "language": "python",
   "name": "python3"
  },
  "language_info": {
   "codemirror_mode": {
    "name": "ipython",
    "version": 3
   },
   "file_extension": ".py",
   "mimetype": "text/x-python",
   "name": "python",
   "nbconvert_exporter": "python",
   "pygments_lexer": "ipython3",
   "version": "3.10.7"
  }
 },
 "nbformat": 4,
 "nbformat_minor": 5
}
